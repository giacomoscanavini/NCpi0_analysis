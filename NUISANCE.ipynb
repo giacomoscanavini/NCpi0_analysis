{
 "cells": [
  {
   "cell_type": "code",
   "execution_count": 5,
   "id": "12a1e113",
   "metadata": {},
   "outputs": [],
   "source": [
    "import custom_functions as cf\n",
    "\n",
    "import math \n",
    "import numpy as np\n",
    "import pandas as pd\n",
    "import uproot3 as uproot\n",
    "import matplotlib.pyplot as plt\n",
    "%matplotlib inline\n",
    "#%matplotlib notebook\n",
    "from matplotlib import gridspec\n",
    "import copy\n",
    "plt.rcParams.update({'font.family':'serif'})\n",
    "\n",
    "SMALL_SIZE = 14\n",
    "MEDIUM_SIZE = 16\n",
    "BIGGER_SIZE = 18\n",
    "\n",
    "plt.rc('font', size=SMALL_SIZE)          # controls default text sizes\n",
    "plt.rc('axes', titlesize=SMALL_SIZE)     # fontsize of the axes title\n",
    "plt.rc('axes', labelsize=MEDIUM_SIZE)    # fontsize of the x and y labels\n",
    "plt.rc('xtick', labelsize=SMALL_SIZE)    # fontsize of the tick labels\n",
    "plt.rc('ytick', labelsize=SMALL_SIZE)    # fontsize of the tick labels\n",
    "plt.rc('legend', fontsize=SMALL_SIZE)    # legend fontsize\n",
    "plt.rc('figure', titlesize=BIGGER_SIZE)  # fontsize of the figure title"
   ]
  },
  {
   "cell_type": "code",
   "execution_count": 6,
   "id": "1b2d0a02",
   "metadata": {},
   "outputs": [
    {
     "data": {
      "text/plain": [
       "<module 'custom_functions' from '/mnt/c/Users/Giacomo/Dropbox/Wirecell_related/NCpi0_training/custom_functions.py'>"
      ]
     },
     "execution_count": 6,
     "metadata": {},
     "output_type": "execute_result"
    }
   ],
   "source": [
    "# After changes\n",
    "import importlib\n",
    "importlib.reload(cf)"
   ]
  },
  {
   "cell_type": "code",
   "execution_count": null,
   "id": "e23fc436",
   "metadata": {},
   "outputs": [],
   "source": []
  },
  {
   "cell_type": "markdown",
   "id": "c4dea9c0",
   "metadata": {},
   "source": [
    "# Bins Definition"
   ]
  },
  {
   "cell_type": "code",
   "execution_count": 7,
   "id": "0249e3c4",
   "metadata": {},
   "outputs": [],
   "source": [
    "edges_nuE = [0,4000] # MeV\n",
    "edges_pi0Mom = [0, 130, 180, 240, 300, 360, 420, 500, 1200] # MeV/c\n",
    "edges_pi0Mom_GeV = [x/1000. for x in edges_pi0Mom] # GeV/c\n",
    "edges_pi0Cos = [-1.0, -0.6, -0.22, 0.12, 0.4, 0.6, 0.74, 0.85, 0.91, 0.96, 1.0]\n",
    "#edges_pi0Cos_rebin = [-1, -0.5, -0.2, 0.1, 0.4, 0.65, 0.75, 0.85, 0.95, 1] # rebin\n",
    "edges_2Dpi0Mom = [0, 130, 215, 300, 420, 1200] # MeV/c\n",
    "edges_2Dpi0Mom_GeV = [x/1000. for x in edges_2Dpi0Mom] # GeV/c\n",
    "edges_2Dpi0Cos = [-1.0, 0, 0.58, 0.85, 1.0]\n",
    "\n",
    "#edges_pi0Mom_fakerebin = [0, 130, 180, 220, 260, 300, 340, 380, 420, 500, 1200]\n",
    "#edges_pi0Mom_fakerebin_GeV = [x/1000. for x in edges_pi0Mom_fakerebin] # GeV/c"
   ]
  },
  {
   "cell_type": "code",
   "execution_count": 8,
   "id": "f8d1e716",
   "metadata": {},
   "outputs": [],
   "source": [
    "flux_0275_4 = 6.62573e-10 # Flux factor integrating numu, nue, antinumu, antinue from 0.275 to 4 GeV\n",
    "flux_0_10 = 7.67125e-10   # Flux factor integrating numu, nue, antinumu, antinue from 0 to 10 GeV\n",
    "ratio = flux_0_10/flux_0275_4"
   ]
  },
  {
   "cell_type": "markdown",
   "id": "aea3bf43",
   "metadata": {},
   "source": [
    "# NUISANCE - Import root files"
   ]
  },
  {
   "cell_type": "code",
   "execution_count": 9,
   "id": "89d048cf",
   "metadata": {},
   "outputs": [],
   "source": [
    "file_nu_gen2 = \"/home/gs627/LEEana/processed_checkout_rootfiles/NUISANCE/bnb.ub.num.genie_v2_12_10.mec.flat.root\"\n",
    "file_nu_gen3 = \"/home/gs627/LEEana/processed_checkout_rootfiles/NUISANCE/bnb.ub.num.genie_v3_00_06.flat.root\"\n",
    "file_nu_neut = \"/home/gs627/LEEana/processed_checkout_rootfiles/NUISANCE/bnb.ub.num.neut_5_4_0_1.flat.root\"\n",
    "file_nu_nuwro = \"/home/gs627/LEEana/processed_checkout_rootfiles/NUISANCE/bnb.ub.num.nuwro_19_02_1.flat.root\"\n",
    "\n",
    "file_anu_gen2 = \"/home/gs627/LEEana/processed_checkout_rootfiles/NUISANCE/bnb.ub.nbm.genie_v2_12_10.mec.flat.root\"\n",
    "file_anu_gen3 = \"/home/gs627/LEEana/processed_checkout_rootfiles/NUISANCE/bnb.ub.nbm.genie_v3_00_06.flat.root\"\n",
    "file_anu_neut = \"/home/gs627/LEEana/processed_checkout_rootfiles/NUISANCE/bnb.ub.nbm.neut_5_4_0_1.flat.root\"\n",
    "file_anu_nuwro = \"/home/gs627/LEEana/processed_checkout_rootfiles/NUISANCE/bnb.ub.nbm.nuwro_19_02_1.flat.root\"\n",
    "\n",
    "file_anue_gen2 = \"/home/gs627/LEEana/processed_checkout_rootfiles/NUISANCE/bnb.ub.nbe.genie_v2_12_10.mec.flat.root\"\n",
    "file_anue_gen3 = \"/home/gs627/LEEana/processed_checkout_rootfiles/NUISANCE/bnb.ub.nbe.genie_v3_00_06.flat.root\"\n",
    "file_anue_neut = \"/home/gs627/LEEana/processed_checkout_rootfiles/NUISANCE/bnb.ub.nbe.neut_5_4_0_1.flat.root\"\n",
    "file_anue_nuwro = \"/home/gs627/LEEana/processed_checkout_rootfiles/NUISANCE/bnb.ub.nbe.nuwro_19_02_1.flat.root\"\n",
    "\n",
    "file_nue_gen2 = \"/home/gs627/LEEana/processed_checkout_rootfiles/NUISANCE/bnb.ub.nue.genie_v2_12_10.mec.flat.root\"\n",
    "file_nue_gen3 = \"/home/gs627/LEEana/processed_checkout_rootfiles/NUISANCE/bnb.ub.nue.genie_v3_00_06.flat.root\"\n",
    "file_nue_neut = \"/home/gs627/LEEana/processed_checkout_rootfiles/NUISANCE/bnb.ub.nue.neut_5_4_0_1.flat.root\"\n",
    "file_nue_nuwro = \"/home/gs627/LEEana/processed_checkout_rootfiles/NUISANCE/bnb.ub.nue.nuwro_19_02_1.flat.root\""
   ]
  },
  {
   "cell_type": "code",
   "execution_count": null,
   "id": "ea17bb54",
   "metadata": {},
   "outputs": [],
   "source": []
  },
  {
   "cell_type": "markdown",
   "id": "2cce3c42",
   "metadata": {},
   "source": [
    "## Integrals from NUISANCE files"
   ]
  },
  {
   "cell_type": "code",
   "execution_count": 10,
   "id": "bf2a3ccf",
   "metadata": {},
   "outputs": [],
   "source": [
    "# Plot of BNB flux\n",
    "h_numu = uproot.open(file_nu_gen3)['FlatTree_FLUX'].values\n",
    "h_numu_bar = uproot.open(file_anu_gen3)['FlatTree_FLUX'].values\n",
    "h_nue = uproot.open(file_nue_gen3)['FlatTree_FLUX'].values\n",
    "h_nue_bar = uproot.open(file_anue_gen3)['FlatTree_FLUX'].values\n",
    "bins = uproot.open(file_nu_gen3)['FlatTree_FLUX'].edges\n",
    "mid_all = [(x+y)/2. for x,y in zip(bins[0:],bins[1:])]\n",
    "delta_all = [(y-x) for x,y in zip(bins[0:],bins[1:])]"
   ]
  },
  {
   "cell_type": "code",
   "execution_count": 11,
   "id": "10e03f37",
   "metadata": {},
   "outputs": [],
   "source": [
    "first = 0.275 # GeV\n",
    "last = 4.001 # GeV\n",
    "\n",
    "bins_index = np.where((bins>first) & (bins<=last))[0]\n",
    "first_bin = bins_index[0]\n",
    "last_bin = bins_index[-1]\n",
    "\n",
    "mid = [(x+y)/2. for x,y in zip(bins[bins_index[0]:bins_index[-1]],bins[bins_index[1]:bins_index[-1]])]\n",
    "delta = [(y-x) for x,y in zip(bins[bins_index[0]:bins_index[-1]],bins[bins_index[1]:bins_index[-1]])]\n",
    "\n",
    "# First bin requires interpolation\n",
    "mid.insert(0, (first+bins[first_bin])/2.)\n",
    "delta.insert(0, (bins[first_bin]-first))\n",
    "\n",
    "def interpolate_flux(valueL, valueH):\n",
    "    return (valueL + valueH)/2"
   ]
  },
  {
   "cell_type": "code",
   "execution_count": 12,
   "id": "c02aa680",
   "metadata": {},
   "outputs": [],
   "source": [
    "h_numu_reduced = h_numu[first_bin:last_bin]\n",
    "h_numu_bar_reduced = h_numu_bar[first_bin:last_bin]\n",
    "h_nue_reduced = h_nue[first_bin:last_bin]\n",
    "h_nue_bar_reduced = h_nue_bar[first_bin:last_bin]\n",
    "\n",
    "# Interpolated first point\n",
    "h_numu_reduced.tolist().insert(0, (h_numu[first_bin-1]+h_numu[first_bin])/2.)\n",
    "h_numu_bar_reduced.tolist().insert(0, (h_numu_bar[first_bin-1]+h_numu_bar[first_bin])/2.)\n",
    "h_nue_reduced.tolist().insert(0, (h_nue[first_bin-1]+h_nue[first_bin])/2.)\n",
    "h_nue_bar_reduced.tolist().insert(0, (h_nue_bar[first_bin-1]+h_nue_bar[first_bin])/2.)"
   ]
  },
  {
   "cell_type": "code",
   "execution_count": 13,
   "id": "02c43357",
   "metadata": {},
   "outputs": [
    {
     "data": {
      "image/png": "[encoded data removed]",
      "text/plain": [
       "<Figure size 432x288 with 1 Axes>"
      ]
     },
     "metadata": {
      "needs_background": "light"
     },
     "output_type": "display_data"
    }
   ],
   "source": [
    "plt.plot(mid, h_numu_reduced, lw=2, ls='solid', color='black', label='numu')\n",
    "plt.plot(mid, h_numu_bar_reduced, lw=2, ls='solid', color='blue', label='a-numu')\n",
    "plt.plot(mid, h_nue_reduced, lw=2, ls='solid', color='red', label='nue')\n",
    "plt.plot(mid, h_nue_bar_reduced, lw=2, ls='solid', color='gold', label='a-nue')\n",
    "plt.yscale('log')"
   ]
  },
  {
   "cell_type": "code",
   "execution_count": 14,
   "id": "fe92424e",
   "metadata": {},
   "outputs": [
    {
     "name": "stdout",
     "output_type": "stream",
     "text": [
      "Total integrated flux numu =  5503931.2\n",
      "Total integrated flux numu_bar =  340173.5\n",
      "Total integrated flux nue_bar =  3003.7\n",
      "Total integrated flux nue =  29682.05\n"
     ]
    }
   ],
   "source": [
    "# Total integrate flux in (0,10) GeV\n",
    "I_numu_all = 0\n",
    "for x,y in zip(delta_all, h_numu): I_numu_all += x*y\n",
    "I_numu_bar_all = 0\n",
    "for x,y in zip(delta_all, h_numu_bar): I_numu_bar_all += x*y\n",
    "I_nue_bar_all = 0\n",
    "for x,y in zip(delta_all, h_nue_bar): I_nue_bar_all += x*y\n",
    "I_nue_all = 0\n",
    "for x,y in zip(delta_all, h_nue): I_nue_all += x*y\n",
    "\n",
    "print('Total integrated flux numu = ',round(I_numu_all,3))\n",
    "print('Total integrated flux numu_bar = ',round(I_numu_bar_all,3))\n",
    "print('Total integrated flux nue_bar = ',round(I_nue_bar_all,3))\n",
    "print('Total integrated flux nue = ',round(I_nue_all,3))"
   ]
  },
  {
   "cell_type": "code",
   "execution_count": 15,
   "id": "0f1fef03",
   "metadata": {},
   "outputs": [
    {
     "name": "stdout",
     "output_type": "stream",
     "text": [
      "Total integrated flux numu =  4668641.025\n",
      "Total integrated flux numu_bar =  161962.25\n",
      "Total integrated flux nue_bar =  2259.125\n",
      "Total integrated flux nue =  23689.525\n"
     ]
    }
   ],
   "source": [
    "# Total integrate flux in (0.275,4) GeV\n",
    "I_numu_reduced = 0\n",
    "for x,y in zip(delta, h_numu_reduced): I_numu_reduced += x*y\n",
    "I_numu_bar_reduced = 0\n",
    "for x,y in zip(delta, h_numu_bar_reduced): I_numu_bar_reduced += x*y\n",
    "I_nue_reduced = 0\n",
    "for x,y in zip(delta, h_nue_reduced): I_nue_reduced += x*y\n",
    "I_nue_bar_reduced = 0\n",
    "for x,y in zip(delta, h_nue_bar_reduced): I_nue_bar_reduced += x*y\n",
    "\n",
    "print('Total integrated flux numu = ',round(I_numu_reduced,3))\n",
    "print('Total integrated flux numu_bar = ',round(I_numu_bar_reduced,3))\n",
    "print('Total integrated flux nue_bar = ',round(I_nue_bar_reduced,3))\n",
    "print('Total integrated flux nue = ',round(I_nue_reduced,3))"
   ]
  },
  {
   "cell_type": "code",
   "execution_count": 16,
   "id": "bbe70917",
   "metadata": {},
   "outputs": [
    {
     "name": "stdout",
     "output_type": "stream",
     "text": [
      "1.178915056978492\n",
      "2.100325847535458\n",
      "1.3295855696342613\n",
      "1.2529609605933418\n"
     ]
    }
   ],
   "source": [
    "# flux0_10/flux0_4\n",
    "print(I_numu_all / I_numu_reduced)\n",
    "print(I_numu_bar_all / I_numu_bar_reduced)\n",
    "print(I_nue_bar_all / I_nue_bar_reduced)\n",
    "print(I_nue_all / I_nue_reduced)"
   ]
  },
  {
   "cell_type": "code",
   "execution_count": 17,
   "id": "aef33793",
   "metadata": {},
   "outputs": [
    {
     "name": "stdout",
     "output_type": "stream",
     "text": [
      "Constant numu = 0.961308\n",
      "Constant numu_bar = 0.033349\n",
      "Constant nue_bar = 0.000465\n",
      "Constant nue = 0.004878\n"
     ]
    }
   ],
   "source": [
    "# Contribution of each flavor to total integrated flux in (0,275,4) GeV\n",
    "integral = I_numu_reduced+I_numu_bar_reduced+I_nue_bar_reduced+I_nue_reduced\n",
    "K_numu = I_numu_reduced/integral\n",
    "K_numu_bar = I_numu_bar_reduced/integral\n",
    "K_nue_bar = I_nue_bar_reduced/integral\n",
    "K_nue = I_nue_reduced/integral\n",
    "\n",
    "print('Constant numu = %1.6f'%(K_numu))\n",
    "print('Constant numu_bar = %1.6f'%(K_numu_bar))\n",
    "print('Constant nue_bar = %1.6f'%(K_nue_bar))\n",
    "print('Constant nue = %1.6f'%(K_nue))"
   ]
  },
  {
   "cell_type": "markdown",
   "id": "2f3eb87d",
   "metadata": {},
   "source": [
    "## Integrals from FLUX files"
   ]
  },
  {
   "cell_type": "code",
   "execution_count": 18,
   "id": "660e2183",
   "metadata": {},
   "outputs": [],
   "source": [
    "file_flux = '/home/gs627/LEEana/flux_info/file_result_unit_per_POT_GeV_cm2.root'\n",
    "h_numu = uproot.open(file_flux)['h1_numu_norm_flux'].values\n",
    "h_numu_bar = uproot.open(file_flux)['h1_numu_bar_flux'].values\n",
    "h_nue = uproot.open(file_flux)['h1_nue_norm_flux'].values\n",
    "h_nue_bar = uproot.open(file_flux)['h1_nue_bar_flux'].values"
   ]
  },
  {
   "cell_type": "code",
   "execution_count": 19,
   "id": "4e365b70",
   "metadata": {},
   "outputs": [
    {
     "data": {
      "image/png": "[encoded data removed]",
      "text/plain": [
       "<Figure size 504x360 with 1 Axes>"
      ]
     },
     "metadata": {
      "needs_background": "light"
     },
     "output_type": "display_data"
    }
   ],
   "source": [
    "plt.figure(figsize=(7,5))\n",
    "plt.plot(mid_all, h_numu, lw=2, ls='solid', color='black', label=r'$\\nu_{\\mu}$')\n",
    "plt.plot(mid_all, h_numu_bar, lw=2, ls=':', color='blue', label=r'$\\overline{\\nu}_{\\mu}$')\n",
    "plt.plot(mid_all, h_nue, lw=2, ls='solid', color='red', label=r'$\\nu_{e}$')\n",
    "plt.plot(mid_all, h_nue_bar, lw=2, ls=':', color='magenta', label=r'$\\overline{\\nu}_{e}$')\n",
    "plt.yscale('log')\n",
    "plt.xlim(0,7)\n",
    "plt.ylim(1e-16,1e-9)\n",
    "plt.axvline(0.275, lw=2, ls='solid', color='grey', alpha=0.55)\n",
    "plt.axvline(4, lw=2, ls='solid', color='grey', alpha=0.55)\n",
    "plt.legend(loc='best',ncol=2)\n",
    "plt.xlabel(r'$E_{\\nu}$ [GeV]', loc='right')\n",
    "plt.ylabel(r'Flux [$\\nu$ / cm$^2$ / POT / GeV]', loc='top')\n",
    "plt.tight_layout()\n",
    "plt.savefig('efficiency_purity_plots/nu_flux.png')\n",
    "plt.savefig('efficiency_purity_plots/nu_flux.pdf')\n",
    "plt.show()"
   ]
  },
  {
   "cell_type": "code",
   "execution_count": 63,
   "id": "5f529822",
   "metadata": {},
   "outputs": [],
   "source": [
    "h_numu_reduced = h_numu[first_bin:last_bin]\n",
    "h_numu_bar_reduced = h_numu_bar[first_bin:last_bin]\n",
    "h_nue_reduced = h_nue[first_bin:last_bin]\n",
    "h_nue_bar_reduced = h_nue_bar[first_bin:last_bin]\n",
    "\n",
    "# Interpolated first point\n",
    "h_numu_reduced.tolist().insert(0, (h_numu[first_bin-1]+h_numu[first_bin])/2.)\n",
    "h_numu_bar_reduced.tolist().insert(0, (h_numu_bar[first_bin-1]+h_numu_bar[first_bin])/2.)\n",
    "h_nue_reduced.tolist().insert(0, (h_nue[first_bin-1]+h_nue[first_bin])/2.)\n",
    "h_nue_bar_reduced.tolist().insert(0, (h_nue_bar[first_bin-1]+h_nue_bar[first_bin])/2.)"
   ]
  },
  {
   "cell_type": "code",
   "execution_count": 64,
   "id": "e4cd8045",
   "metadata": {},
   "outputs": [
    {
     "data": {
      "image/png": "[encoded data removed]",
      "text/plain": [
       "<Figure size 432x288 with 1 Axes>"
      ]
     },
     "metadata": {
      "needs_background": "light"
     },
     "output_type": "display_data"
    }
   ],
   "source": [
    "plt.plot(mid, h_numu_reduced, lw=2, ls='solid', color='black', label='numu')\n",
    "plt.plot(mid, h_numu_bar_reduced, lw=2, ls='solid', color='blue', label='a-numu')\n",
    "plt.plot(mid, h_nue_reduced, lw=2, ls='solid', color='red', label='nue')\n",
    "plt.plot(mid, h_nue_bar_reduced, lw=2, ls='solid', color='gold', label='a-nue')\n",
    "plt.yscale('log')"
   ]
  },
  {
   "cell_type": "code",
   "execution_count": 65,
   "id": "4b6f42eb",
   "metadata": {},
   "outputs": [
    {
     "name": "stdout",
     "output_type": "stream",
     "text": [
      "Total integrated flux numu =  7.199014412380955e-10\n",
      "Total integrated flux numu_bar =  4.4496838392899067e-11\n",
      "Total integrated flux nue_bar =  3.9372727604273813e-13\n",
      "Total integrated flux nue =  3.8821754347828116e-12\n"
     ]
    }
   ],
   "source": [
    "# Total integrate flux in (0,10) GeV\n",
    "I_numu_all = 0\n",
    "for x,y in zip(delta_all, h_numu): I_numu_all += x*y\n",
    "I_numu_bar_all = 0\n",
    "for x,y in zip(delta_all, h_numu_bar): I_numu_bar_all += x*y\n",
    "I_nue_bar_all = 0\n",
    "for x,y in zip(delta_all, h_nue_bar): I_nue_bar_all += x*y\n",
    "I_nue_all = 0\n",
    "for x,y in zip(delta_all, h_nue): I_nue_all += x*y\n",
    "\n",
    "print('Total integrated flux numu = ',I_numu_all)\n",
    "print('Total integrated flux numu_bar = ',I_numu_bar_all)\n",
    "print('Total integrated flux nue_bar = ',I_nue_bar_all)\n",
    "print('Total integrated flux nue = ',I_nue_all)"
   ]
  },
  {
   "cell_type": "code",
   "execution_count": 66,
   "id": "cc865b64",
   "metadata": {},
   "outputs": [
    {
     "name": "stdout",
     "output_type": "stream",
     "text": [
      "Total integrated flux numu =  6.106521856626773e-10\n",
      "Total integrated flux numu_bar =  2.1179082007081298e-11\n",
      "Total integrated flux nue_bar =  2.9602032309357827e-13\n",
      "Total integrated flux nue =  3.0981949461093776e-12\n"
     ]
    }
   ],
   "source": [
    "# Total integrate flux in (0.275,4) GeV\n",
    "I_numu_reduced = 0\n",
    "for x,y in zip(delta, h_numu_reduced): I_numu_reduced += x*y\n",
    "I_numu_bar_reduced = 0\n",
    "for x,y in zip(delta, h_numu_bar_reduced): I_numu_bar_reduced += x*y\n",
    "I_nue_reduced = 0\n",
    "for x,y in zip(delta, h_nue_reduced): I_nue_reduced += x*y\n",
    "I_nue_bar_reduced = 0\n",
    "for x,y in zip(delta, h_nue_bar_reduced): I_nue_bar_reduced += x*y\n",
    "\n",
    "print('Total integrated flux numu = ',I_numu_reduced)\n",
    "print('Total integrated flux numu_bar = ',I_numu_bar_reduced)\n",
    "print('Total integrated flux nue_bar = ',I_nue_bar_reduced)\n",
    "print('Total integrated flux nue = ',I_nue_reduced)"
   ]
  },
  {
   "cell_type": "code",
   "execution_count": 67,
   "id": "ca066ceb",
   "metadata": {},
   "outputs": [
    {
     "name": "stdout",
     "output_type": "stream",
     "text": [
      "1.1789058618644939\n",
      "2.100980504160728\n",
      "1.330068395061756\n",
      "1.253044273297887\n"
     ]
    }
   ],
   "source": [
    "# flux0_10/flux0_4\n",
    "print(I_numu_all / I_numu_reduced)\n",
    "print(I_numu_bar_all / I_numu_bar_reduced)\n",
    "print(I_nue_bar_all / I_nue_bar_reduced)\n",
    "print(I_nue_all / I_nue_reduced)"
   ]
  },
  {
   "cell_type": "code",
   "execution_count": 68,
   "id": "a042bbdd",
   "metadata": {},
   "outputs": [
    {
     "name": "stdout",
     "output_type": "stream",
     "text": [
      "Constant numu = 0.961316\n",
      "Constant numu_bar = 0.033341\n",
      "Constant nue_bar = 0.000466\n",
      "Constant nue = 0.004877\n"
     ]
    }
   ],
   "source": [
    "# Contribution of each flavor to total integrated flux in (0,275,4) GeV\n",
    "integral = I_numu_reduced+I_numu_bar_reduced+I_nue_bar_reduced+I_nue_reduced\n",
    "K_numu = I_numu_reduced/integral\n",
    "K_numu_bar = I_numu_bar_reduced/integral\n",
    "K_nue_bar = I_nue_bar_reduced/integral\n",
    "K_nue = I_nue_reduced/integral\n",
    "\n",
    "print('Constant numu = %1.6f'%(K_numu))\n",
    "print('Constant numu_bar = %1.6f'%(K_numu_bar))\n",
    "print('Constant nue_bar = %1.6f'%(K_nue_bar))\n",
    "print('Constant nue = %1.6f'%(K_nue))"
   ]
  },
  {
   "cell_type": "markdown",
   "id": "e7e2072a",
   "metadata": {},
   "source": [
    "## Integrals imported from EXCEL + batch.sh"
   ]
  },
  {
   "cell_type": "code",
   "execution_count": 69,
   "id": "36ee4fb3",
   "metadata": {},
   "outputs": [],
   "source": [
    "# From C++/Excel script\n",
    "K_numu = 0.95991\n",
    "K_numu_bar = 0.03472\n",
    "K_nue_bar = 0.00047\n",
    "K_nue = 0.00490\n",
    "\n",
    "I_numu_all = 7.18878E-10\n",
    "I_numu_reduced = 6.36011E-10\n",
    "\n",
    "I_numu_bar_all = 4.39793E-11\n",
    "I_numu_bar_reduced = 2.30035E-11\n",
    "\n",
    "I_nue_bar_all = 3.92389E-13\n",
    "I_nue_bar_reduced = 3.09110E-13\n",
    "\n",
    "I_nue_all = 3.87486E-12\n",
    "I_nue_reduced = 3.24917E-12"
   ]
  },
  {
   "cell_type": "markdown",
   "id": "d0ca5133",
   "metadata": {},
   "source": [
    "## Calculate cross sections (event selection in NUISANCE)"
   ]
  },
  {
   "cell_type": "code",
   "execution_count": 70,
   "id": "88919953",
   "metadata": {},
   "outputs": [
    {
     "ename": "KeyboardInterrupt",
     "evalue": "",
     "output_type": "error",
     "traceback": [
      "\u001b[0;31m---------------------------------------------------------------------------\u001b[0m",
      "\u001b[0;31mKeyboardInterrupt\u001b[0m                         Traceback (most recent call last)",
      "\u001b[0;32m/tmp/ipykernel_10002/188756794.py\u001b[0m in \u001b[0;36m<module>\u001b[0;34m\u001b[0m\n\u001b[1;32m     45\u001b[0m \u001b[0mdf_anue_gen3\u001b[0m \u001b[0;34m=\u001b[0m \u001b[0mT_anue_gen3\u001b[0m\u001b[0;34m.\u001b[0m\u001b[0mpandas\u001b[0m\u001b[0;34m.\u001b[0m\u001b[0mdf\u001b[0m\u001b[0;34m(\u001b[0m\u001b[0mflat_variables\u001b[0m\u001b[0;34m,\u001b[0m \u001b[0mflatten\u001b[0m\u001b[0;34m=\u001b[0m\u001b[0;32mFalse\u001b[0m\u001b[0;34m)\u001b[0m\u001b[0;34m\u001b[0m\u001b[0;34m\u001b[0m\u001b[0m\n\u001b[1;32m     46\u001b[0m \u001b[0mdf_anue_neut\u001b[0m \u001b[0;34m=\u001b[0m \u001b[0mT_anue_neut\u001b[0m\u001b[0;34m.\u001b[0m\u001b[0mpandas\u001b[0m\u001b[0;34m.\u001b[0m\u001b[0mdf\u001b[0m\u001b[0;34m(\u001b[0m\u001b[0mflat_variables\u001b[0m\u001b[0;34m,\u001b[0m \u001b[0mflatten\u001b[0m\u001b[0;34m=\u001b[0m\u001b[0;32mFalse\u001b[0m\u001b[0;34m)\u001b[0m\u001b[0;34m\u001b[0m\u001b[0;34m\u001b[0m\u001b[0m\n\u001b[0;32m---> 47\u001b[0;31m \u001b[0mdf_anue_nuwro\u001b[0m \u001b[0;34m=\u001b[0m \u001b[0mT_anue_nuwro\u001b[0m\u001b[0;34m.\u001b[0m\u001b[0mpandas\u001b[0m\u001b[0;34m.\u001b[0m\u001b[0mdf\u001b[0m\u001b[0;34m(\u001b[0m\u001b[0mflat_variables\u001b[0m\u001b[0;34m,\u001b[0m \u001b[0mflatten\u001b[0m\u001b[0;34m=\u001b[0m\u001b[0;32mFalse\u001b[0m\u001b[0;34m)\u001b[0m\u001b[0;34m\u001b[0m\u001b[0;34m\u001b[0m\u001b[0m\n\u001b[0m\u001b[1;32m     48\u001b[0m \u001b[0;34m\u001b[0m\u001b[0m\n\u001b[1;32m     49\u001b[0m \u001b[0mdf_nue_gen2\u001b[0m \u001b[0;34m=\u001b[0m \u001b[0mT_nue_gen2\u001b[0m\u001b[0;34m.\u001b[0m\u001b[0mpandas\u001b[0m\u001b[0;34m.\u001b[0m\u001b[0mdf\u001b[0m\u001b[0;34m(\u001b[0m\u001b[0mflat_variables\u001b[0m\u001b[0;34m,\u001b[0m \u001b[0mflatten\u001b[0m\u001b[0;34m=\u001b[0m\u001b[0;32mFalse\u001b[0m\u001b[0;34m)\u001b[0m\u001b[0;34m\u001b[0m\u001b[0;34m\u001b[0m\u001b[0m\n",
      "\u001b[0;32m~/anaconda3/lib/python3.7/site-packages/uproot3/_connect/_pandas.py\u001b[0m in \u001b[0;36mdf\u001b[0;34m(self, branches, namedecode, entrystart, entrystop, flatten, flatname, awkwardlib, cache, basketcache, keycache, executor, blocking)\u001b[0m\n\u001b[1;32m     30\u001b[0m     \u001b[0;32mdef\u001b[0m \u001b[0mdf\u001b[0m\u001b[0;34m(\u001b[0m\u001b[0mself\u001b[0m\u001b[0;34m,\u001b[0m \u001b[0mbranches\u001b[0m\u001b[0;34m=\u001b[0m\u001b[0;32mNone\u001b[0m\u001b[0;34m,\u001b[0m \u001b[0mnamedecode\u001b[0m\u001b[0;34m=\u001b[0m\u001b[0;34m\"utf-8\"\u001b[0m\u001b[0;34m,\u001b[0m \u001b[0mentrystart\u001b[0m\u001b[0;34m=\u001b[0m\u001b[0;32mNone\u001b[0m\u001b[0;34m,\u001b[0m \u001b[0mentrystop\u001b[0m\u001b[0;34m=\u001b[0m\u001b[0;32mNone\u001b[0m\u001b[0;34m,\u001b[0m \u001b[0mflatten\u001b[0m\u001b[0;34m=\u001b[0m\u001b[0;32mTrue\u001b[0m\u001b[0;34m,\u001b[0m \u001b[0mflatname\u001b[0m\u001b[0;34m=\u001b[0m\u001b[0;32mNone\u001b[0m\u001b[0;34m,\u001b[0m \u001b[0mawkwardlib\u001b[0m\u001b[0;34m=\u001b[0m\u001b[0;32mNone\u001b[0m\u001b[0;34m,\u001b[0m \u001b[0mcache\u001b[0m\u001b[0;34m=\u001b[0m\u001b[0;32mNone\u001b[0m\u001b[0;34m,\u001b[0m \u001b[0mbasketcache\u001b[0m\u001b[0;34m=\u001b[0m\u001b[0;32mNone\u001b[0m\u001b[0;34m,\u001b[0m \u001b[0mkeycache\u001b[0m\u001b[0;34m=\u001b[0m\u001b[0;32mNone\u001b[0m\u001b[0;34m,\u001b[0m \u001b[0mexecutor\u001b[0m\u001b[0;34m=\u001b[0m\u001b[0;32mNone\u001b[0m\u001b[0;34m,\u001b[0m \u001b[0mblocking\u001b[0m\u001b[0;34m=\u001b[0m\u001b[0;32mTrue\u001b[0m\u001b[0;34m)\u001b[0m\u001b[0;34m:\u001b[0m\u001b[0;34m\u001b[0m\u001b[0;34m\u001b[0m\u001b[0m\n\u001b[1;32m     31\u001b[0m         \u001b[0;32mimport\u001b[0m \u001b[0mpandas\u001b[0m\u001b[0;34m\u001b[0m\u001b[0;34m\u001b[0m\u001b[0m\n\u001b[0;32m---> 32\u001b[0;31m         \u001b[0;32mreturn\u001b[0m \u001b[0mself\u001b[0m\u001b[0;34m.\u001b[0m\u001b[0m_tree\u001b[0m\u001b[0;34m.\u001b[0m\u001b[0marrays\u001b[0m\u001b[0;34m(\u001b[0m\u001b[0mbranches\u001b[0m\u001b[0;34m=\u001b[0m\u001b[0mbranches\u001b[0m\u001b[0;34m,\u001b[0m \u001b[0moutputtype\u001b[0m\u001b[0;34m=\u001b[0m\u001b[0mpandas\u001b[0m\u001b[0;34m.\u001b[0m\u001b[0mDataFrame\u001b[0m\u001b[0;34m,\u001b[0m \u001b[0mnamedecode\u001b[0m\u001b[0;34m=\u001b[0m\u001b[0mnamedecode\u001b[0m\u001b[0;34m,\u001b[0m \u001b[0mentrystart\u001b[0m\u001b[0;34m=\u001b[0m\u001b[0mentrystart\u001b[0m\u001b[0;34m,\u001b[0m \u001b[0mentrystop\u001b[0m\u001b[0;34m=\u001b[0m\u001b[0mentrystop\u001b[0m\u001b[0;34m,\u001b[0m \u001b[0mflatten\u001b[0m\u001b[0;34m=\u001b[0m\u001b[0mflatten\u001b[0m\u001b[0;34m,\u001b[0m \u001b[0mflatname\u001b[0m\u001b[0;34m=\u001b[0m\u001b[0mflatname\u001b[0m\u001b[0;34m,\u001b[0m \u001b[0mawkwardlib\u001b[0m\u001b[0;34m=\u001b[0m\u001b[0mawkwardlib\u001b[0m\u001b[0;34m,\u001b[0m \u001b[0mcache\u001b[0m\u001b[0;34m=\u001b[0m\u001b[0mcache\u001b[0m\u001b[0;34m,\u001b[0m \u001b[0mbasketcache\u001b[0m\u001b[0;34m=\u001b[0m\u001b[0mbasketcache\u001b[0m\u001b[0;34m,\u001b[0m \u001b[0mkeycache\u001b[0m\u001b[0;34m=\u001b[0m\u001b[0mkeycache\u001b[0m\u001b[0;34m,\u001b[0m \u001b[0mexecutor\u001b[0m\u001b[0;34m=\u001b[0m\u001b[0mexecutor\u001b[0m\u001b[0;34m,\u001b[0m \u001b[0mblocking\u001b[0m\u001b[0;34m=\u001b[0m\u001b[0mblocking\u001b[0m\u001b[0;34m)\u001b[0m\u001b[0;34m\u001b[0m\u001b[0;34m\u001b[0m\u001b[0m\n\u001b[0m\u001b[1;32m     33\u001b[0m \u001b[0;34m\u001b[0m\u001b[0m\n\u001b[1;32m     34\u001b[0m     \u001b[0;32mdef\u001b[0m \u001b[0miterate\u001b[0m\u001b[0;34m(\u001b[0m\u001b[0mself\u001b[0m\u001b[0;34m,\u001b[0m \u001b[0mbranches\u001b[0m\u001b[0;34m=\u001b[0m\u001b[0;32mNone\u001b[0m\u001b[0;34m,\u001b[0m \u001b[0mentrysteps\u001b[0m\u001b[0;34m=\u001b[0m\u001b[0;32mNone\u001b[0m\u001b[0;34m,\u001b[0m \u001b[0mnamedecode\u001b[0m\u001b[0;34m=\u001b[0m\u001b[0;34m\"utf-8\"\u001b[0m\u001b[0;34m,\u001b[0m \u001b[0mentrystart\u001b[0m\u001b[0;34m=\u001b[0m\u001b[0;32mNone\u001b[0m\u001b[0;34m,\u001b[0m \u001b[0mentrystop\u001b[0m\u001b[0;34m=\u001b[0m\u001b[0;32mNone\u001b[0m\u001b[0;34m,\u001b[0m \u001b[0mflatten\u001b[0m\u001b[0;34m=\u001b[0m\u001b[0;32mTrue\u001b[0m\u001b[0;34m,\u001b[0m \u001b[0mflatname\u001b[0m\u001b[0;34m=\u001b[0m\u001b[0;32mNone\u001b[0m\u001b[0;34m,\u001b[0m \u001b[0mawkwardlib\u001b[0m\u001b[0;34m=\u001b[0m\u001b[0;32mNone\u001b[0m\u001b[0;34m,\u001b[0m \u001b[0mcache\u001b[0m\u001b[0;34m=\u001b[0m\u001b[0;32mNone\u001b[0m\u001b[0;34m,\u001b[0m \u001b[0mbasketcache\u001b[0m\u001b[0;34m=\u001b[0m\u001b[0;32mNone\u001b[0m\u001b[0;34m,\u001b[0m \u001b[0mkeycache\u001b[0m\u001b[0;34m=\u001b[0m\u001b[0;32mNone\u001b[0m\u001b[0;34m,\u001b[0m \u001b[0mexecutor\u001b[0m\u001b[0;34m=\u001b[0m\u001b[0;32mNone\u001b[0m\u001b[0;34m,\u001b[0m \u001b[0mblocking\u001b[0m\u001b[0;34m=\u001b[0m\u001b[0;32mTrue\u001b[0m\u001b[0;34m)\u001b[0m\u001b[0;34m:\u001b[0m\u001b[0;34m\u001b[0m\u001b[0;34m\u001b[0m\u001b[0m\n",
      "\u001b[0;32m~/anaconda3/lib/python3.7/site-packages/uproot3/tree.py\u001b[0m in \u001b[0;36marrays\u001b[0;34m(self, branches, outputtype, namedecode, entrystart, entrystop, flatten, flatname, awkwardlib, cache, basketcache, keycache, executor, blocking, recursive)\u001b[0m\n\u001b[1;32m    588\u001b[0m         \u001b[0;31m# if blocking, return the result of that function; otherwise, the function itself\u001b[0m\u001b[0;34m\u001b[0m\u001b[0;34m\u001b[0m\u001b[0;34m\u001b[0m\u001b[0m\n\u001b[1;32m    589\u001b[0m         \u001b[0;32mif\u001b[0m \u001b[0mblocking\u001b[0m\u001b[0;34m:\u001b[0m\u001b[0;34m\u001b[0m\u001b[0;34m\u001b[0m\u001b[0m\n\u001b[0;32m--> 590\u001b[0;31m             \u001b[0;32mreturn\u001b[0m \u001b[0mwait\u001b[0m\u001b[0;34m(\u001b[0m\u001b[0;34m)\u001b[0m\u001b[0;34m\u001b[0m\u001b[0;34m\u001b[0m\u001b[0m\n\u001b[0m\u001b[1;32m    591\u001b[0m         \u001b[0;32melse\u001b[0m\u001b[0;34m:\u001b[0m\u001b[0;34m\u001b[0m\u001b[0;34m\u001b[0m\u001b[0m\n\u001b[1;32m    592\u001b[0m             \u001b[0;32mreturn\u001b[0m \u001b[0mwait\u001b[0m\u001b[0;34m\u001b[0m\u001b[0;34m\u001b[0m\u001b[0m\n",
      "\u001b[0;32m~/anaconda3/lib/python3.7/site-packages/uproot3/tree.py\u001b[0m in \u001b[0;36mwait\u001b[0;34m()\u001b[0m\n\u001b[1;32m    572\u001b[0m             \u001b[0;32mimport\u001b[0m \u001b[0muproot3\u001b[0m\u001b[0;34m.\u001b[0m\u001b[0m_connect\u001b[0m\u001b[0;34m.\u001b[0m\u001b[0m_pandas\u001b[0m\u001b[0;34m\u001b[0m\u001b[0;34m\u001b[0m\u001b[0m\n\u001b[1;32m    573\u001b[0m             \u001b[0;32mdef\u001b[0m \u001b[0mwait\u001b[0m\u001b[0;34m(\u001b[0m\u001b[0;34m)\u001b[0m\u001b[0;34m:\u001b[0m\u001b[0;34m\u001b[0m\u001b[0;34m\u001b[0m\u001b[0m\n\u001b[0;32m--> 574\u001b[0;31m                 \u001b[0;32mreturn\u001b[0m \u001b[0muproot3\u001b[0m\u001b[0;34m.\u001b[0m\u001b[0m_connect\u001b[0m\u001b[0;34m.\u001b[0m\u001b[0m_pandas\u001b[0m\u001b[0;34m.\u001b[0m\u001b[0mfutures2df\u001b[0m\u001b[0;34m(\u001b[0m\u001b[0mfutures\u001b[0m\u001b[0;34m,\u001b[0m \u001b[0moutputtype\u001b[0m\u001b[0;34m,\u001b[0m \u001b[0mentrystart\u001b[0m\u001b[0;34m,\u001b[0m \u001b[0mentrystop\u001b[0m\u001b[0;34m,\u001b[0m \u001b[0mflatten\u001b[0m\u001b[0;34m,\u001b[0m \u001b[0mflatname\u001b[0m\u001b[0;34m,\u001b[0m \u001b[0mawkward0\u001b[0m\u001b[0;34m)\u001b[0m\u001b[0;34m\u001b[0m\u001b[0;34m\u001b[0m\u001b[0m\n\u001b[0m\u001b[1;32m    575\u001b[0m \u001b[0;34m\u001b[0m\u001b[0m\n\u001b[1;32m    576\u001b[0m         \u001b[0;32melif\u001b[0m \u001b[0misinstance\u001b[0m\u001b[0;34m(\u001b[0m\u001b[0moutputtype\u001b[0m\u001b[0;34m,\u001b[0m \u001b[0mtype\u001b[0m\u001b[0;34m)\u001b[0m \u001b[0;32mand\u001b[0m \u001b[0missubclass\u001b[0m\u001b[0;34m(\u001b[0m\u001b[0moutputtype\u001b[0m\u001b[0;34m,\u001b[0m \u001b[0mdict\u001b[0m\u001b[0;34m)\u001b[0m\u001b[0;34m:\u001b[0m\u001b[0;34m\u001b[0m\u001b[0;34m\u001b[0m\u001b[0m\n",
      "\u001b[0;32m~/anaconda3/lib/python3.7/site-packages/uproot3/_connect/_pandas.py\u001b[0m in \u001b[0;36mfutures2df\u001b[0;34m(futures, outputtype, entrystart, entrystop, flatten, flatname, awkward0)\u001b[0m\n\u001b[1;32m     90\u001b[0m                 \u001b[0mfn\u001b[0m \u001b[0;34m=\u001b[0m \u001b[0mflatname\u001b[0m\u001b[0;34m(\u001b[0m\u001b[0mname\u001b[0m\u001b[0;34m,\u001b[0m \u001b[0;32mNone\u001b[0m\u001b[0;34m,\u001b[0m \u001b[0;34m(\u001b[0m\u001b[0;34m)\u001b[0m\u001b[0;34m)\u001b[0m\u001b[0;34m\u001b[0m\u001b[0;34m\u001b[0m\u001b[0m\n\u001b[1;32m     91\u001b[0m                 \u001b[0mcolumns\u001b[0m\u001b[0;34m.\u001b[0m\u001b[0mappend\u001b[0m\u001b[0;34m(\u001b[0m\u001b[0mfn\u001b[0m\u001b[0;34m)\u001b[0m\u001b[0;34m\u001b[0m\u001b[0;34m\u001b[0m\u001b[0m\n\u001b[0;32m---> 92\u001b[0;31m                 \u001b[0mdata\u001b[0m\u001b[0;34m[\u001b[0m\u001b[0mfn\u001b[0m\u001b[0;34m]\u001b[0m \u001b[0;34m=\u001b[0m \u001b[0mlist\u001b[0m\u001b[0;34m(\u001b[0m\u001b[0marray\u001b[0m\u001b[0;34m)\u001b[0m     \u001b[0;31m# must be serialized as a Python list for Pandas to accept it\u001b[0m\u001b[0;34m\u001b[0m\u001b[0;34m\u001b[0m\u001b[0m\n\u001b[0m\u001b[1;32m     93\u001b[0m \u001b[0;34m\u001b[0m\u001b[0m\n\u001b[1;32m     94\u001b[0m         \u001b[0mindex\u001b[0m \u001b[0;34m=\u001b[0m \u001b[0mpandas\u001b[0m\u001b[0;34m.\u001b[0m\u001b[0mRangeIndex\u001b[0m\u001b[0;34m(\u001b[0m\u001b[0mentrystart\u001b[0m\u001b[0;34m,\u001b[0m \u001b[0mentrystop\u001b[0m\u001b[0;34m,\u001b[0m \u001b[0mname\u001b[0m\u001b[0;34m=\u001b[0m\u001b[0;34m\"entry\"\u001b[0m\u001b[0;34m)\u001b[0m\u001b[0;34m\u001b[0m\u001b[0;34m\u001b[0m\u001b[0m\n",
      "\u001b[0;32m~/anaconda3/lib/python3.7/site-packages/awkward0/array/jagged.py\u001b[0m in \u001b[0;36m__iter__\u001b[0;34m(self, checkiter)\u001b[0m\n\u001b[1;32m    512\u001b[0m             \u001b[0mstops\u001b[0m \u001b[0;34m=\u001b[0m \u001b[0mself\u001b[0m\u001b[0;34m.\u001b[0m\u001b[0m_stops\u001b[0m\u001b[0;34m\u001b[0m\u001b[0;34m\u001b[0m\u001b[0m\n\u001b[1;32m    513\u001b[0m             \u001b[0mcontent\u001b[0m \u001b[0;34m=\u001b[0m \u001b[0mself\u001b[0m\u001b[0;34m.\u001b[0m\u001b[0m_content\u001b[0m\u001b[0;34m\u001b[0m\u001b[0;34m\u001b[0m\u001b[0m\n\u001b[0;32m--> 514\u001b[0;31m             \u001b[0;32mfor\u001b[0m \u001b[0mi\u001b[0m\u001b[0;34m,\u001b[0m \u001b[0mstart\u001b[0m \u001b[0;32min\u001b[0m \u001b[0menumerate\u001b[0m\u001b[0;34m(\u001b[0m\u001b[0mself\u001b[0m\u001b[0;34m.\u001b[0m\u001b[0m_starts\u001b[0m\u001b[0;34m)\u001b[0m\u001b[0;34m:\u001b[0m\u001b[0;34m\u001b[0m\u001b[0;34m\u001b[0m\u001b[0m\n\u001b[0m\u001b[1;32m    515\u001b[0m                 \u001b[0;32myield\u001b[0m \u001b[0mcontent\u001b[0m\u001b[0;34m[\u001b[0m\u001b[0mstart\u001b[0m\u001b[0;34m:\u001b[0m\u001b[0mstops\u001b[0m\u001b[0;34m[\u001b[0m\u001b[0mi\u001b[0m\u001b[0;34m]\u001b[0m\u001b[0;34m]\u001b[0m\u001b[0;34m\u001b[0m\u001b[0;34m\u001b[0m\u001b[0m\n\u001b[1;32m    516\u001b[0m \u001b[0;34m\u001b[0m\u001b[0m\n",
      "\u001b[0;31mKeyboardInterrupt\u001b[0m: "
     ]
    }
   ],
   "source": [
    "# Generate trees and create dataframes with useful variables\n",
    "T_nu_gen2 = uproot.open(file_nu_gen2)['FlatTree_VARS']\n",
    "T_nu_gen3 = uproot.open(file_nu_gen3)['FlatTree_VARS']\n",
    "T_nu_neut = uproot.open(file_nu_neut)['FlatTree_VARS']\n",
    "T_nu_nuwro = uproot.open(file_nu_nuwro)['FlatTree_VARS']\n",
    "\n",
    "T_anu_gen2 = uproot.open(file_anu_gen2)['FlatTree_VARS']\n",
    "T_anu_gen3 = uproot.open(file_anu_gen3)['FlatTree_VARS']\n",
    "T_anu_neut = uproot.open(file_anu_neut)['FlatTree_VARS']\n",
    "T_anu_nuwro = uproot.open(file_anu_nuwro)['FlatTree_VARS']\n",
    "\n",
    "T_anue_gen2 = uproot.open(file_anue_gen2)['FlatTree_VARS']\n",
    "T_anue_gen3 = uproot.open(file_anue_gen3)['FlatTree_VARS']\n",
    "T_anue_neut = uproot.open(file_anue_neut)['FlatTree_VARS']\n",
    "T_anue_nuwro = uproot.open(file_anue_nuwro)['FlatTree_VARS']\n",
    "\n",
    "T_nue_gen2 = uproot.open(file_nue_gen2)['FlatTree_VARS']\n",
    "T_nue_gen3 = uproot.open(file_nue_gen3)['FlatTree_VARS']\n",
    "T_nue_neut = uproot.open(file_nue_neut)['FlatTree_VARS']\n",
    "T_nue_nuwro = uproot.open(file_nue_nuwro)['FlatTree_VARS']\n",
    "\n",
    "#\"cc [0:NC, 1:CC]\n",
    "#\"tgta [40, target A]\n",
    "#\"Enu_true [Neutrino initial energy]\n",
    "#\"fScaleFactor [Scaling weight]\n",
    "#\"nfsp [Number of \"final state\" particles]\n",
    "#\"pdg [Same as usual, 111:pi0]\n",
    "#\"px\" [Momentum component x GeV]\n",
    "#\"py\" [Momentum component y GeV]\n",
    "#\"pz\" [Momentum component z GeV]\n",
    "flat_variables = ['Mode', 'nfsp', 'cc', 'tgta', 'Enu_true', 'pdg', 'px', 'py', 'pz', 'fScaleFactor', 'flagNC1pi0',\n",
    "                  'nvertp', 'pdg_init', 'px_init', 'py_init', 'pz_init']\n",
    "\n",
    "df_nu_gen2 = T_nu_gen2.pandas.df(flat_variables, flatten=False)\n",
    "df_nu_gen3 = T_nu_gen3.pandas.df(flat_variables, flatten=False)\n",
    "df_nu_neut = T_nu_neut.pandas.df(flat_variables, flatten=False)\n",
    "df_nu_nuwro = T_nu_nuwro.pandas.df(flat_variables, flatten=False)\n",
    "\n",
    "df_anu_gen2 = T_anu_gen2.pandas.df(flat_variables, flatten=False)\n",
    "df_anu_gen3 = T_anu_gen3.pandas.df(flat_variables, flatten=False)\n",
    "df_anu_neut = T_anu_neut.pandas.df(flat_variables, flatten=False)\n",
    "df_anu_nuwro = T_anu_nuwro.pandas.df(flat_variables, flatten=False)\n",
    "\n",
    "df_anue_gen2 = T_anue_gen2.pandas.df(flat_variables, flatten=False)\n",
    "df_anue_gen3 = T_anue_gen3.pandas.df(flat_variables, flatten=False)\n",
    "df_anue_neut = T_anue_neut.pandas.df(flat_variables, flatten=False)\n",
    "df_anue_nuwro = T_anue_nuwro.pandas.df(flat_variables, flatten=False)\n",
    "\n",
    "df_nue_gen2 = T_nue_gen2.pandas.df(flat_variables, flatten=False)\n",
    "df_nue_gen3 = T_nue_gen3.pandas.df(flat_variables, flatten=False)\n",
    "df_nue_neut = T_nue_neut.pandas.df(flat_variables, flatten=False)\n",
    "df_nue_nuwro = T_nue_nuwro.pandas.df(flat_variables, flatten=False)"
   ]
  },
  {
   "cell_type": "code",
   "execution_count": 23,
   "id": "cf33d78c",
   "metadata": {},
   "outputs": [],
   "source": [
    "df_nu_gen2 = cf.count_pi0(cf.is_NUISANCE_NC(df_nu_gen2))\n",
    "df_nu_gen3 = cf.count_pi0(cf.is_NUISANCE_NC(df_nu_gen3))\n",
    "df_nu_neut = cf.count_pi0(cf.is_NUISANCE_NC(df_nu_neut))\n",
    "df_nu_nuwro = cf.count_pi0(cf.is_NUISANCE_NC(df_nu_nuwro))\n",
    "\n",
    "df_anu_gen2 = cf.count_pi0(cf.is_NUISANCE_NC(df_anu_gen2))\n",
    "df_anu_gen3 = cf.count_pi0(cf.is_NUISANCE_NC(df_anu_gen3))\n",
    "df_anu_neut = cf.count_pi0(cf.is_NUISANCE_NC(df_anu_neut))\n",
    "df_anu_nuwro = cf.count_pi0(cf.is_NUISANCE_NC(df_anu_nuwro))\n",
    "\n",
    "df_anue_gen2 = cf.count_pi0(cf.is_NUISANCE_NC(df_anue_gen2))\n",
    "df_anue_gen3 = cf.count_pi0(cf.is_NUISANCE_NC(df_anue_gen3))\n",
    "df_anue_neut = cf.count_pi0(cf.is_NUISANCE_NC(df_anue_neut))\n",
    "df_anue_nuwro = cf.count_pi0(cf.is_NUISANCE_NC(df_anue_nuwro))\n",
    "\n",
    "df_nue_gen2 = cf.count_pi0(cf.is_NUISANCE_NC(df_nue_gen2))\n",
    "df_nue_gen3 = cf.count_pi0(cf.is_NUISANCE_NC(df_nue_gen3))\n",
    "df_nue_neut = cf.count_pi0(cf.is_NUISANCE_NC(df_nue_neut))\n",
    "df_nue_nuwro = cf.count_pi0(cf.is_NUISANCE_NC(df_nue_nuwro))"
   ]
  },
  {
   "cell_type": "code",
   "execution_count": 24,
   "id": "857f748f",
   "metadata": {},
   "outputs": [],
   "source": [
    "# Generate dataframes for NCpi0 Xp, 0p, Np, and get true cross section\n",
    "def true_xs(df, flux0_10, flux0_4):\n",
    "    df_Xp = cf.is_NUISANCE_1pi0(df)\n",
    "    df_0p = cf.is_NUISANCE_0p(df_Xp)\n",
    "    df_Np = cf.is_NUISANCE_Np(df_Xp)\n",
    "    \n",
    "    xs_mom = cf.NUISANCE_xs_diff(df_Xp, flux0_10, flux0_4, edges_pi0Mom_GeV, types='mom', nucleon=True)\n",
    "    xs_mom_0p = cf.NUISANCE_xs_diff(df_0p, flux0_10, flux0_4, edges_pi0Mom_GeV, types='mom', nucleon=True)\n",
    "    xs_mom_Np = cf.NUISANCE_xs_diff(df_Np, flux0_10, flux0_4, edges_pi0Mom_GeV, types='mom', nucleon=True)\n",
    "    \n",
    "    xs_cos = cf.NUISANCE_xs_diff(df_Xp, flux0_10, flux0_4, edges_pi0Cos, types='cos', nucleon=True)\n",
    "    xs_cos_0p = cf.NUISANCE_xs_diff(df_0p, flux0_10, flux0_4, edges_pi0Cos, types='cos', nucleon=True)\n",
    "    xs_cos_Np = cf.NUISANCE_xs_diff(df_Np, flux0_10, flux0_4, edges_pi0Cos, types='cos', nucleon=True)\n",
    "    \n",
    "    return [xs_mom, xs_mom_0p, xs_mom_Np], [xs_cos, xs_cos_0p, xs_cos_Np]"
   ]
  },
  {
   "cell_type": "code",
   "execution_count": 25,
   "id": "9ac4aa45",
   "metadata": {},
   "outputs": [],
   "source": [
    "def true_2D_xs(df, flux0_10, flux0_4):\n",
    "    slices = edges_2Dpi0Cos #[-1.0, 0, 0.58, 0.85, 1.0]\n",
    "    df_Xp = cf.is_NUISANCE_1pi0(df)\n",
    "    \n",
    "    xs_mom_theta0 = cf.NUISANCE_xs_2D_diff(df_Xp, flux0_10, flux0_4, edges_2Dpi0Mom_GeV, slice=[edges_2Dpi0Cos[0],edges_2Dpi0Cos[1]], types='mom', nucleon=True)\n",
    "    xs_mom_theta1 = cf.NUISANCE_xs_2D_diff(df_Xp, flux0_10, flux0_4, edges_2Dpi0Mom_GeV, slice=[edges_2Dpi0Cos[1],edges_2Dpi0Cos[2]], types='mom', nucleon=True)\n",
    "    xs_mom_theta2 = cf.NUISANCE_xs_2D_diff(df_Xp, flux0_10, flux0_4, edges_2Dpi0Mom_GeV, slice=[edges_2Dpi0Cos[2],edges_2Dpi0Cos[3]], types='mom', nucleon=True)\n",
    "    xs_mom_theta3 = cf.NUISANCE_xs_2D_diff(df_Xp, flux0_10, flux0_4, edges_2Dpi0Mom_GeV, slice=[edges_2Dpi0Cos[3],edges_2Dpi0Cos[4]], types='mom', nucleon=True)\n",
    "    \n",
    "    return xs_mom_theta0, xs_mom_theta1, xs_mom_theta2, xs_mom_theta3"
   ]
  },
  {
   "cell_type": "code",
   "execution_count": 26,
   "id": "962bb992",
   "metadata": {},
   "outputs": [],
   "source": [
    "# True cross sections weighted\n",
    "def merge_xs(xs_nu, xs_anu, xs_anue, xs_nue):\n",
    "    if type(xs_nu)==float: return (xs_nu*K_numu + xs_anu*K_numu_bar + xs_anue*K_nue_bar + xs_nue*K_nue)\n",
    "    if len(xs_nu): return [A*K_numu + B*K_numu_bar + C*K_nue_bar + D*K_nue for A,B,C,D in zip(xs_nu, xs_anu, xs_anue, xs_nue)]"
   ]
  },
  {
   "cell_type": "markdown",
   "id": "213914ea",
   "metadata": {},
   "source": [
    "### GENIEv2 ----- (REMEMBER multiply by Ac matrix before comparing)"
   ]
  },
  {
   "cell_type": "markdown",
   "id": "01e84840",
   "metadata": {},
   "source": [
    "### 1D"
   ]
  },
  {
   "cell_type": "code",
   "execution_count": 27,
   "id": "41a16ada",
   "metadata": {},
   "outputs": [],
   "source": [
    "[xs_mom_nu_gen2, xs_mom_nu_gen2_0p, xs_mom_nu_gen2_Np], [xs_cos_nu_gen2, xs_cos_nu_gen2_0p, xs_cos_nu_gen2_Np] = true_xs(df_nu_gen2, I_numu_all, I_numu_reduced)\n",
    "[xs_mom_anu_gen2, xs_mom_anu_gen2_0p, xs_mom_anu_gen2_Np], [xs_cos_anu_gen2, xs_cos_anu_gen2_0p, xs_cos_anu_gen2_Np] = true_xs(df_anu_gen2, I_numu_bar_all, I_numu_bar_reduced)\n",
    "[xs_mom_anue_gen2, xs_mom_anue_gen2_0p, xs_mom_anue_gen2_Np], [xs_cos_anue_gen2, xs_cos_anue_gen2_0p, xs_cos_anue_gen2_Np] = true_xs(df_anue_gen2, I_nue_bar_all, I_nue_bar_reduced)\n",
    "[xs_mom_nue_gen2, xs_mom_nue_gen2_0p, xs_mom_nue_gen2_Np], [xs_cos_nue_gen2, xs_cos_nue_gen2_0p, xs_cos_nue_gen2_Np] = true_xs(df_nue_gen2, I_nue_all, I_nue_reduced)"
   ]
  },
  {
   "cell_type": "code",
   "execution_count": 28,
   "id": "b95b18af",
   "metadata": {},
   "outputs": [],
   "source": [
    "xs_mom_gen2 = merge_xs(xs_mom_nu_gen2, xs_mom_anu_gen2, xs_mom_anue_gen2, xs_mom_nue_gen2)\n",
    "xs_mom_gen2_0p = merge_xs(xs_mom_nu_gen2_0p, xs_mom_anu_gen2_0p, xs_mom_anue_gen2_0p, xs_mom_nue_gen2_0p)\n",
    "xs_mom_gen2_Np = merge_xs(xs_mom_nu_gen2_Np, xs_mom_anu_gen2_Np, xs_mom_anue_gen2_Np, xs_mom_nue_gen2_Np)\n",
    "\n",
    "xs_cos_gen2 = merge_xs(xs_cos_nu_gen2, xs_cos_anu_gen2, xs_cos_anue_gen2, xs_cos_nue_gen2)\n",
    "xs_cos_gen2_0p = merge_xs(xs_cos_nu_gen2_0p, xs_cos_anu_gen2_0p, xs_cos_anue_gen2_0p, xs_cos_nue_gen2_0p)\n",
    "xs_cos_gen2_Np = merge_xs(xs_cos_nu_gen2_Np, xs_cos_anu_gen2_Np, xs_cos_anue_gen2_Np, xs_cos_nue_gen2_Np)"
   ]
  },
  {
   "cell_type": "markdown",
   "id": "6a90916c",
   "metadata": {},
   "source": [
    "### 2D"
   ]
  },
  {
   "cell_type": "code",
   "execution_count": 29,
   "id": "d89ce0dc",
   "metadata": {},
   "outputs": [],
   "source": [
    "xs_mom_nu_gen2_theta0, xs_mom_nu_gen2_theta1, xs_mom_nu_gen2_theta2, xs_mom_nu_gen2_theta3 = true_2D_xs(df_nu_gen2, I_numu_all, I_numu_reduced)\n",
    "xs_mom_anu_gen2_theta0, xs_mom_anu_gen2_theta1, xs_mom_anu_gen2_theta2, xs_mom_anu_gen2_theta3 = true_2D_xs(df_anu_gen2, I_numu_bar_all, I_numu_bar_reduced)\n",
    "xs_mom_anue_gen2_theta0, xs_mom_anue_gen2_theta1, xs_mom_anue_gen2_theta2, xs_mom_anue_gen2_theta3 = true_2D_xs(df_anue_gen2, I_nue_bar_all, I_nue_bar_reduced)\n",
    "xs_mom_nue_gen2_theta0, xs_mom_nue_gen2_theta1, xs_mom_nue_gen2_theta2, xs_mom_nue_gen2_theta3 = true_2D_xs(df_nue_gen2, I_nue_all, I_nue_reduced)"
   ]
  },
  {
   "cell_type": "code",
   "execution_count": 30,
   "id": "855de3d1",
   "metadata": {},
   "outputs": [],
   "source": [
    "xs_mom_gen2_theta0 = merge_xs(xs_mom_nu_gen2_theta0, xs_mom_anu_gen2_theta0, xs_mom_anue_gen2_theta0, xs_mom_nue_gen2_theta0)\n",
    "xs_mom_gen2_theta1 = merge_xs(xs_mom_nu_gen2_theta1, xs_mom_anu_gen2_theta1, xs_mom_anue_gen2_theta1, xs_mom_nue_gen2_theta1)\n",
    "xs_mom_gen2_theta2 = merge_xs(xs_mom_nu_gen2_theta2, xs_mom_anu_gen2_theta2, xs_mom_anue_gen2_theta2, xs_mom_nue_gen2_theta2)\n",
    "xs_mom_gen2_theta3 = merge_xs(xs_mom_nu_gen2_theta3, xs_mom_anu_gen2_theta3, xs_mom_anue_gen2_theta3, xs_mom_nue_gen2_theta3)"
   ]
  },
  {
   "cell_type": "markdown",
   "id": "8198d851",
   "metadata": {},
   "source": [
    "### NUWRO ----- (REMEMBER multiply by Ac matrix before comparing)"
   ]
  },
  {
   "cell_type": "markdown",
   "id": "62524602",
   "metadata": {},
   "source": [
    "### 1D"
   ]
  },
  {
   "cell_type": "code",
   "execution_count": 31,
   "id": "b6395bff",
   "metadata": {},
   "outputs": [],
   "source": [
    "[xs_mom_nu_nuwro, xs_mom_nu_nuwro_0p, xs_mom_nu_nuwro_Np], [xs_cos_nu_nuwro, xs_cos_nu_nuwro_0p, xs_cos_nu_nuwro_Np] = true_xs(df_nu_nuwro, I_numu_all, I_numu_reduced)\n",
    "[xs_mom_anu_nuwro, xs_mom_anu_nuwro_0p, xs_mom_anu_nuwro_Np], [xs_cos_anu_nuwro, xs_cos_anu_nuwro_0p, xs_cos_anu_nuwro_Np] = true_xs(df_anu_nuwro, I_numu_bar_all, I_numu_bar_reduced)\n",
    "[xs_mom_anue_nuwro, xs_mom_anue_nuwro_0p, xs_mom_anue_nuwro_Np], [xs_cos_anue_nuwro, xs_cos_anue_nuwro_0p, xs_cos_anue_nuwro_Np] = true_xs(df_anue_nuwro, I_nue_bar_all, I_nue_bar_reduced)\n",
    "[xs_mom_nue_nuwro, xs_mom_nue_nuwro_0p, xs_mom_nue_nuwro_Np], [xs_cos_nue_nuwro, xs_cos_nue_nuwro_0p, xs_cos_nue_nuwro_Np] = true_xs(df_nue_nuwro, I_nue_all, I_nue_reduced)"
   ]
  },
  {
   "cell_type": "code",
   "execution_count": 32,
   "id": "057755ca",
   "metadata": {},
   "outputs": [],
   "source": [
    "xs_mom_nuwro = merge_xs(xs_mom_nu_nuwro, xs_mom_anu_nuwro, xs_mom_anue_nuwro, xs_mom_nue_nuwro)\n",
    "xs_mom_nuwro_0p = merge_xs(xs_mom_nu_nuwro_0p, xs_mom_anu_nuwro_0p, xs_mom_anue_nuwro_0p, xs_mom_nue_nuwro_0p)\n",
    "xs_mom_nuwro_Np = merge_xs(xs_mom_nu_nuwro_Np, xs_mom_anu_nuwro_Np, xs_mom_anue_nuwro_Np, xs_mom_nue_nuwro_Np)\n",
    "\n",
    "xs_cos_nuwro = merge_xs(xs_cos_nu_nuwro, xs_cos_anu_nuwro, xs_cos_anue_nuwro, xs_cos_nue_nuwro)\n",
    "xs_cos_nuwro_0p = merge_xs(xs_cos_nu_nuwro_0p, xs_cos_anu_nuwro_0p, xs_cos_anue_nuwro_0p, xs_cos_nue_nuwro_0p)\n",
    "xs_cos_nuwro_Np = merge_xs(xs_cos_nu_nuwro_Np, xs_cos_anu_nuwro_Np, xs_cos_anue_nuwro_Np, xs_cos_nue_nuwro_Np)"
   ]
  },
  {
   "cell_type": "markdown",
   "id": "0ff37a35",
   "metadata": {},
   "source": [
    "### 2D"
   ]
  },
  {
   "cell_type": "code",
   "execution_count": 33,
   "id": "d0bb851d",
   "metadata": {},
   "outputs": [],
   "source": [
    "xs_mom_nu_nuwro_theta0, xs_mom_nu_nuwro_theta1, xs_mom_nu_nuwro_theta2, xs_mom_nu_nuwro_theta3 = true_2D_xs(df_nu_nuwro, I_numu_all, I_numu_reduced)\n",
    "xs_mom_anu_nuwro_theta0, xs_mom_anu_nuwro_theta1, xs_mom_anu_nuwro_theta2, xs_mom_anu_nuwro_theta3 = true_2D_xs(df_anu_nuwro, I_numu_bar_all, I_numu_bar_reduced)\n",
    "xs_mom_anue_nuwro_theta0, xs_mom_anue_nuwro_theta1, xs_mom_anue_nuwro_theta2, xs_mom_anue_nuwro_theta3 = true_2D_xs(df_anue_nuwro, I_nue_bar_all, I_nue_bar_reduced)\n",
    "xs_mom_nue_nuwro_theta0, xs_mom_nue_nuwro_theta1, xs_mom_nue_nuwro_theta2, xs_mom_nue_nuwro_theta3 = true_2D_xs(df_nue_nuwro, I_nue_all, I_nue_reduced)"
   ]
  },
  {
   "cell_type": "code",
   "execution_count": 34,
   "id": "e3a8ce18",
   "metadata": {},
   "outputs": [],
   "source": [
    "xs_mom_nuwro_theta0 = merge_xs(xs_mom_nu_nuwro_theta0, xs_mom_anu_nuwro_theta0, xs_mom_anue_nuwro_theta0, xs_mom_nue_nuwro_theta0)\n",
    "xs_mom_nuwro_theta1 = merge_xs(xs_mom_nu_nuwro_theta1, xs_mom_anu_nuwro_theta1, xs_mom_anue_nuwro_theta1, xs_mom_nue_nuwro_theta1)\n",
    "xs_mom_nuwro_theta2 = merge_xs(xs_mom_nu_nuwro_theta2, xs_mom_anu_nuwro_theta2, xs_mom_anue_nuwro_theta2, xs_mom_nue_nuwro_theta2)\n",
    "xs_mom_nuwro_theta3 = merge_xs(xs_mom_nu_nuwro_theta3, xs_mom_anu_nuwro_theta3, xs_mom_anue_nuwro_theta3, xs_mom_nue_nuwro_theta3)"
   ]
  },
  {
   "cell_type": "markdown",
   "id": "784bde73",
   "metadata": {},
   "source": [
    "### GENIEv3 ----- (REMEMBER multiply by Ac matrix before comparing)"
   ]
  },
  {
   "cell_type": "markdown",
   "id": "c3b38121",
   "metadata": {},
   "source": [
    "### 1D"
   ]
  },
  {
   "cell_type": "code",
   "execution_count": 35,
   "id": "cbc6546a",
   "metadata": {},
   "outputs": [],
   "source": [
    "[xs_mom_nu_gen3, xs_mom_nu_gen3_0p, xs_mom_nu_gen3_Np], [xs_cos_nu_gen3, xs_cos_nu_gen3_0p, xs_cos_nu_gen3_Np] = true_xs(df_nu_gen3, I_numu_all, I_numu_reduced)\n",
    "[xs_mom_anu_gen3, xs_mom_anu_gen3_0p, xs_mom_anu_gen3_Np], [xs_cos_anu_gen3, xs_cos_anu_gen3_0p, xs_cos_anu_gen3_Np] = true_xs(df_anu_gen3, I_numu_bar_all, I_numu_bar_reduced)\n",
    "[xs_mom_anue_gen3, xs_mom_anue_gen3_0p, xs_mom_anue_gen3_Np], [xs_cos_anue_gen3, xs_cos_anue_gen3_0p, xs_cos_anue_gen3_Np] = true_xs(df_anue_gen3, I_nue_bar_all, I_nue_bar_reduced)\n",
    "[xs_mom_nue_gen3, xs_mom_nue_gen3_0p, xs_mom_nue_gen3_Np], [xs_cos_nue_gen3, xs_cos_nue_gen3_0p, xs_cos_nue_gen3_Np] = true_xs(df_nue_gen3, I_nue_all, I_nue_reduced)"
   ]
  },
  {
   "cell_type": "code",
   "execution_count": 36,
   "id": "1f759511",
   "metadata": {},
   "outputs": [],
   "source": [
    "xs_mom_gen3 = merge_xs(xs_mom_nu_gen3, xs_mom_anu_gen3, xs_mom_anue_gen3, xs_mom_nue_gen3)\n",
    "xs_mom_gen3_0p = merge_xs(xs_mom_nu_gen3_0p, xs_mom_anu_gen3_0p, xs_mom_anue_gen3_0p, xs_mom_nue_gen3_0p)\n",
    "xs_mom_gen3_Np = merge_xs(xs_mom_nu_gen3_Np, xs_mom_anu_gen3_Np, xs_mom_anue_gen3_Np, xs_mom_nue_gen3_Np)\n",
    "\n",
    "xs_cos_gen3 = merge_xs(xs_cos_nu_gen3, xs_cos_anu_gen3, xs_cos_anue_gen3, xs_cos_nue_gen3)\n",
    "xs_cos_gen3_0p = merge_xs(xs_cos_nu_gen3_0p, xs_cos_anu_gen3_0p, xs_cos_anue_gen3_0p, xs_cos_nue_gen3_0p)\n",
    "xs_cos_gen3_Np = merge_xs(xs_cos_nu_gen3_Np, xs_cos_anu_gen3_Np, xs_cos_anue_gen3_Np, xs_cos_nue_gen3_Np)"
   ]
  },
  {
   "cell_type": "markdown",
   "id": "7d0a963b",
   "metadata": {},
   "source": [
    "### 2D"
   ]
  },
  {
   "cell_type": "code",
   "execution_count": 37,
   "id": "575c4ce3",
   "metadata": {},
   "outputs": [],
   "source": [
    "xs_mom_nu_gen3_theta0, xs_mom_nu_gen3_theta1, xs_mom_nu_gen3_theta2, xs_mom_nu_gen3_theta3 = true_2D_xs(df_nu_gen3, I_numu_all, I_numu_reduced)\n",
    "xs_mom_anu_gen3_theta0, xs_mom_anu_gen3_theta1, xs_mom_anu_gen3_theta2, xs_mom_anu_gen3_theta3 = true_2D_xs(df_anu_gen3, I_numu_bar_all, I_numu_bar_reduced)\n",
    "xs_mom_anue_gen3_theta0, xs_mom_anue_gen3_theta1, xs_mom_anue_gen3_theta2, xs_mom_anue_gen3_theta3 = true_2D_xs(df_anue_gen3, I_nue_bar_all, I_nue_bar_reduced)\n",
    "xs_mom_nue_gen3_theta0, xs_mom_nue_gen3_theta1, xs_mom_nue_gen3_theta2, xs_mom_nue_gen3_theta3 = true_2D_xs(df_nue_gen3, I_nue_all, I_nue_reduced)"
   ]
  },
  {
   "cell_type": "code",
   "execution_count": 38,
   "id": "8d5fc3be",
   "metadata": {},
   "outputs": [],
   "source": [
    "xs_mom_gen3_theta0 = merge_xs(xs_mom_nu_gen3_theta0, xs_mom_anu_gen3_theta0, xs_mom_anue_gen3_theta0, xs_mom_nue_gen3_theta0)\n",
    "xs_mom_gen3_theta1 = merge_xs(xs_mom_nu_gen3_theta1, xs_mom_anu_gen3_theta1, xs_mom_anue_gen3_theta1, xs_mom_nue_gen3_theta1)\n",
    "xs_mom_gen3_theta2 = merge_xs(xs_mom_nu_gen3_theta2, xs_mom_anu_gen3_theta2, xs_mom_anue_gen3_theta2, xs_mom_nue_gen3_theta2)\n",
    "xs_mom_gen3_theta3 = merge_xs(xs_mom_nu_gen3_theta3, xs_mom_anu_gen3_theta3, xs_mom_anue_gen3_theta3, xs_mom_nue_gen3_theta3)"
   ]
  },
  {
   "cell_type": "markdown",
   "id": "d33e7885",
   "metadata": {},
   "source": [
    "### NEUT ----- (REMEMBER multiply by Ac matrix before comparing)"
   ]
  },
  {
   "cell_type": "markdown",
   "id": "909a526f",
   "metadata": {},
   "source": [
    "### 1D"
   ]
  },
  {
   "cell_type": "code",
   "execution_count": 39,
   "id": "896cac95",
   "metadata": {},
   "outputs": [],
   "source": [
    "[xs_mom_nu_neut, xs_mom_nu_neut_0p, xs_mom_nu_neut_Np], [xs_cos_nu_neut, xs_cos_nu_neut_0p, xs_cos_nu_neut_Np] = true_xs(df_nu_neut, I_numu_all, I_numu_reduced)\n",
    "[xs_mom_anu_neut, xs_mom_anu_neut_0p, xs_mom_anu_neut_Np], [xs_cos_anu_neut, xs_cos_anu_neut_0p, xs_cos_anu_neut_Np] = true_xs(df_anu_neut, I_numu_bar_all, I_numu_bar_reduced)\n",
    "[xs_mom_anue_neut, xs_mom_anue_neut_0p, xs_mom_anue_neut_Np], [xs_cos_anue_neut, xs_cos_anue_neut_0p, xs_cos_anue_neut_Np] = true_xs(df_anue_neut, I_nue_bar_all, I_nue_bar_reduced)\n",
    "[xs_mom_nue_neut, xs_mom_nue_neut_0p, xs_mom_nue_neut_Np], [xs_cos_nue_neut, xs_cos_nue_neut_0p, xs_cos_nue_neut_Np] = true_xs(df_nue_neut, I_nue_all, I_nue_reduced)"
   ]
  },
  {
   "cell_type": "code",
   "execution_count": 40,
   "id": "f8083c44",
   "metadata": {},
   "outputs": [],
   "source": [
    "xs_mom_neut = merge_xs(xs_mom_nu_neut, xs_mom_anu_neut, xs_mom_anue_neut, xs_mom_nue_neut)\n",
    "xs_mom_neut_0p = merge_xs(xs_mom_nu_neut_0p, xs_mom_anu_neut_0p, xs_mom_anue_neut_0p, xs_mom_nue_neut_0p)\n",
    "xs_mom_neut_Np = merge_xs(xs_mom_nu_neut_Np, xs_mom_anu_neut_Np, xs_mom_anue_neut_Np, xs_mom_nue_neut_Np)\n",
    "\n",
    "xs_cos_neut = merge_xs(xs_cos_nu_neut, xs_cos_anu_neut, xs_cos_anue_neut, xs_cos_nue_neut)\n",
    "xs_cos_neut_0p = merge_xs(xs_cos_nu_neut_0p, xs_cos_anu_neut_0p, xs_cos_anue_neut_0p, xs_cos_nue_neut_0p)\n",
    "xs_cos_neut_Np = merge_xs(xs_cos_nu_neut_Np, xs_cos_anu_neut_Np, xs_cos_anue_neut_Np, xs_cos_nue_neut_Np)"
   ]
  },
  {
   "cell_type": "markdown",
   "id": "7cf4c8ab",
   "metadata": {},
   "source": [
    "### 2D"
   ]
  },
  {
   "cell_type": "code",
   "execution_count": 41,
   "id": "c2ac90c2",
   "metadata": {},
   "outputs": [],
   "source": [
    "xs_mom_nu_neut_theta0, xs_mom_nu_neut_theta1, xs_mom_nu_neut_theta2, xs_mom_nu_neut_theta3 = true_2D_xs(df_nu_neut, I_numu_all, I_numu_reduced)\n",
    "xs_mom_anu_neut_theta0, xs_mom_anu_neut_theta1, xs_mom_anu_neut_theta2, xs_mom_anu_neut_theta3 = true_2D_xs(df_anu_neut, I_numu_bar_all, I_numu_bar_reduced)\n",
    "xs_mom_anue_neut_theta0, xs_mom_anue_neut_theta1, xs_mom_anue_neut_theta2, xs_mom_anue_neut_theta3 = true_2D_xs(df_anue_neut, I_nue_bar_all, I_nue_bar_reduced)\n",
    "xs_mom_nue_neut_theta0, xs_mom_nue_neut_theta1, xs_mom_nue_neut_theta2, xs_mom_nue_neut_theta3 = true_2D_xs(df_nue_neut, I_nue_all, I_nue_reduced)"
   ]
  },
  {
   "cell_type": "code",
   "execution_count": 42,
   "id": "09f9f2a6",
   "metadata": {},
   "outputs": [],
   "source": [
    "xs_mom_neut_theta0 = merge_xs(xs_mom_nu_neut_theta0, xs_mom_anu_neut_theta0, xs_mom_anue_neut_theta0, xs_mom_nue_neut_theta0)\n",
    "xs_mom_neut_theta1 = merge_xs(xs_mom_nu_neut_theta1, xs_mom_anu_neut_theta1, xs_mom_anue_neut_theta1, xs_mom_nue_neut_theta1)\n",
    "xs_mom_neut_theta2 = merge_xs(xs_mom_nu_neut_theta2, xs_mom_anu_neut_theta2, xs_mom_anue_neut_theta2, xs_mom_nue_neut_theta2)\n",
    "xs_mom_neut_theta3 = merge_xs(xs_mom_nu_neut_theta3, xs_mom_anu_neut_theta3, xs_mom_anue_neut_theta3, xs_mom_nue_neut_theta3)"
   ]
  },
  {
   "cell_type": "markdown",
   "id": "b0ce90d4",
   "metadata": {},
   "source": [
    "### MOMENTUM"
   ]
  },
  {
   "cell_type": "markdown",
   "id": "db0ca500",
   "metadata": {},
   "source": [
    "### 1D"
   ]
  },
  {
   "cell_type": "code",
   "execution_count": 43,
   "id": "c2e2bcd0",
   "metadata": {},
   "outputs": [
    {
     "name": "stdout",
     "output_type": "stream",
     "text": [
      "[0.39143, 1.59754, 1.41524, 0.9337, 0.79534, 0.66347, 0.47036, 0.10301]\n",
      "[0.65056, 1.35038, 1.39189, 1.25132, 1.12227, 0.88741, 0.54975, 0.1033]\n",
      "[0.58109, 1.65382, 1.3533, 0.9709, 0.8072, 0.6802, 0.46043, 0.08626]\n",
      "[0.50683, 1.61238, 1.08863, 0.74154, 0.72513, 0.59447, 0.42102, 0.08392]\n"
     ]
    }
   ],
   "source": [
    "# XS Xp\n",
    "print([round(x,5) for x in xs_mom_nuwro])\n",
    "print([round(x,5) for x in xs_mom_gen2])\n",
    "print([round(x,5) for x in xs_mom_gen3])\n",
    "print([round(x,5) for x in xs_mom_neut])"
   ]
  },
  {
   "cell_type": "code",
   "execution_count": 44,
   "id": "d43e9d69",
   "metadata": {},
   "outputs": [
    {
     "name": "stdout",
     "output_type": "stream",
     "text": [
      "[0.16995, 0.75789, 0.75869, 0.55164, 0.46664, 0.39643, 0.27763, 0.0645, 0.22149, 0.83965, 0.65655, 0.38206, 0.3287, 0.26704, 0.19273, 0.03851]\n",
      "[0.24003, 0.5461, 0.66202, 0.6334, 0.58732, 0.45121, 0.27388, 0.05395, 0.41053, 0.80428, 0.72987, 0.61792, 0.53495, 0.43619, 0.27587, 0.04935]\n",
      "[0.17594, 0.56602, 0.52873, 0.40754, 0.34524, 0.29641, 0.20655, 0.04336, 0.40515, 1.0878, 0.82457, 0.56336, 0.46196, 0.38378, 0.25388, 0.0429]\n",
      "[0.1768, 0.69669, 0.51386, 0.38492, 0.37514, 0.29944, 0.21391, 0.04297, 0.33002, 0.91569, 0.57477, 0.35662, 0.34999, 0.29503, 0.2071, 0.04094]\n"
     ]
    }
   ],
   "source": [
    "# XS 0pNp\n",
    "print([round(x,5) for x in xs_mom_nuwro_0p+xs_mom_nuwro_Np])\n",
    "print([round(x,5) for x in xs_mom_gen2_0p+xs_mom_gen2_Np])\n",
    "print([round(x,5) for x in xs_mom_gen3_0p+xs_mom_gen3_Np])\n",
    "print([round(x,5) for x in xs_mom_neut_0p+xs_mom_neut_Np])"
   ]
  },
  {
   "cell_type": "markdown",
   "id": "d8f96eed",
   "metadata": {},
   "source": [
    "### 2D"
   ]
  },
  {
   "cell_type": "code",
   "execution_count": 45,
   "id": "2a705fb7",
   "metadata": {},
   "outputs": [
    {
     "name": "stdout",
     "output_type": "stream",
     "text": [
      "[0.2224, 0.75326, 0.25745, 0.07776, 0.00281]\n",
      "[0.34146, 0.63467, 0.3303, 0.10328, 0.00318]\n",
      "[0.32445, 0.75149, 0.26093, 0.07441, 0.00181]\n",
      "[0.26723, 0.76375, 0.18449, 0.05459, 0.0022]\n"
     ]
    }
   ],
   "source": [
    "# XS Xp\n",
    "print([round(x,5) for x in xs_mom_nuwro_theta0])\n",
    "print([round(x,5) for x in xs_mom_gen2_theta0])\n",
    "print([round(x,5) for x in xs_mom_gen3_theta0])\n",
    "print([round(x,5) for x in xs_mom_neut_theta0])"
   ]
  },
  {
   "cell_type": "code",
   "execution_count": 46,
   "id": "990de1ac",
   "metadata": {},
   "outputs": [
    {
     "name": "stdout",
     "output_type": "stream",
     "text": [
      "[0.1018, 0.5159, 0.36767, 0.20258, 0.01912]\n",
      "[0.18327, 0.43048, 0.47144, 0.33977, 0.02826]\n",
      "[0.14886, 0.50546, 0.39077, 0.23054, 0.01945]\n",
      "[0.13888, 0.40885, 0.27187, 0.18475, 0.01834]\n"
     ]
    }
   ],
   "source": [
    "print([round(x,5) for x in xs_mom_nuwro_theta1])\n",
    "print([round(x,5) for x in xs_mom_gen2_theta1])\n",
    "print([round(x,5) for x in xs_mom_gen3_theta1])\n",
    "print([round(x,5) for x in xs_mom_neut_theta1])"
   ]
  },
  {
   "cell_type": "code",
   "execution_count": 47,
   "id": "89a78c1a",
   "metadata": {},
   "outputs": [
    {
     "name": "stdout",
     "output_type": "stream",
     "text": [
      "[0.04255, 0.20545, 0.2321, 0.22446, 0.04075]\n",
      "[0.0793, 0.19816, 0.29246, 0.30873, 0.05217]\n",
      "[0.06781, 0.20803, 0.23697, 0.24025, 0.04372]\n",
      "[0.06484, 0.18365, 0.18792, 0.21041, 0.0381]\n"
     ]
    }
   ],
   "source": [
    "print([round(x,5) for x in xs_mom_nuwro_theta2])\n",
    "print([round(x,5) for x in xs_mom_gen2_theta2])\n",
    "print([round(x,5) for x in xs_mom_gen3_theta2])\n",
    "print([round(x,5) for x in xs_mom_neut_theta2])"
   ]
  },
  {
   "cell_type": "code",
   "execution_count": 48,
   "id": "789f064b",
   "metadata": {},
   "outputs": [
    {
     "name": "stdout",
     "output_type": "stream",
     "text": [
      "[0.02468, 0.10494, 0.16104, 0.22461, 0.07801]\n",
      "[0.04653, 0.11397, 0.18866, 0.25305, 0.06549]\n",
      "[0.03997, 0.11095, 0.14885, 0.1985, 0.05967]\n",
      "[0.03588, 0.1031, 0.1367, 0.21005, 0.05985]\n"
     ]
    }
   ],
   "source": [
    "print([round(x,5) for x in xs_mom_nuwro_theta3])\n",
    "print([round(x,5) for x in xs_mom_gen2_theta3])\n",
    "print([round(x,5) for x in xs_mom_gen3_theta3])\n",
    "print([round(x,5) for x in xs_mom_neut_theta3])"
   ]
  },
  {
   "cell_type": "code",
   "execution_count": 51,
   "id": "433162d8",
   "metadata": {},
   "outputs": [
    {
     "name": "stdout",
     "output_type": "stream",
     "text": [
      "[0.2224, 0.75326, 0.25745, 0.07776, 0.00281, 0.1018, 0.5159, 0.36767, 0.20258, 0.01912, 0.04255, 0.20545, 0.2321, 0.22446, 0.04075, 0.02468, 0.10494, 0.16104, 0.22461, 0.07801]\n",
      "[0.34146, 0.63467, 0.3303, 0.10328, 0.00318, 0.18327, 0.43048, 0.47144, 0.33977, 0.02826, 0.0793, 0.19816, 0.29246, 0.30873, 0.05217, 0.04653, 0.11397, 0.18866, 0.25305, 0.06549]\n",
      "[0.32445, 0.75149, 0.26093, 0.07441, 0.00181, 0.14886, 0.50546, 0.39077, 0.23054, 0.01945, 0.06781, 0.20803, 0.23697, 0.24025, 0.04372, 0.03997, 0.11095, 0.14885, 0.1985, 0.05967]\n",
      "[0.26723, 0.76375, 0.18449, 0.05459, 0.0022, 0.13888, 0.40885, 0.27187, 0.18475, 0.01834, 0.06484, 0.18365, 0.18792, 0.21041, 0.0381, 0.03588, 0.1031, 0.1367, 0.21005, 0.05985]\n"
     ]
    }
   ],
   "source": [
    "print([round(x,5) for x in xs_mom_nuwro_theta0+xs_mom_nuwro_theta1+xs_mom_nuwro_theta2+xs_mom_nuwro_theta3])\n",
    "print([round(x,5) for x in xs_mom_gen2_theta0+xs_mom_gen2_theta1+xs_mom_gen2_theta2+xs_mom_gen2_theta3])\n",
    "print([round(x,5) for x in xs_mom_gen3_theta0+xs_mom_gen3_theta1+xs_mom_gen3_theta2+xs_mom_gen3_theta3])\n",
    "print([round(x,5) for x in xs_mom_neut_theta0+xs_mom_neut_theta1+xs_mom_neut_theta2+xs_mom_neut_theta3])"
   ]
  },
  {
   "cell_type": "markdown",
   "id": "d801a7b4",
   "metadata": {},
   "source": [
    "### COSTHETA"
   ]
  },
  {
   "cell_type": "code",
   "execution_count": 49,
   "id": "e635466b",
   "metadata": {},
   "outputs": [
    {
     "name": "stdout",
     "output_type": "stream",
     "text": [
      "[0.10779, 0.12927, 0.16307, 0.2058, 0.27315, 0.33922, 0.43747, 0.59859, 0.78807, 1.10955]\n",
      "[0.11453, 0.14492, 0.19471, 0.26795, 0.35211, 0.44395, 0.54589, 0.64192, 0.78199, 0.97819]\n",
      "[0.11769, 0.14131, 0.17877, 0.22518, 0.29446, 0.37579, 0.46094, 0.55794, 0.67244, 0.85399]\n",
      "[0.11136, 0.12465, 0.14579, 0.18426, 0.24307, 0.30842, 0.42083, 0.54538, 0.65355, 0.85739]\n"
     ]
    }
   ],
   "source": [
    "# XS Xp\n",
    "print([round(x,5) for x in xs_cos_nuwro])\n",
    "print([round(x,5) for x in xs_cos_gen2])\n",
    "print([round(x,5) for x in xs_cos_gen3])\n",
    "print([round(x,5) for x in xs_cos_neut])"
   ]
  },
  {
   "cell_type": "code",
   "execution_count": 50,
   "id": "b096703d",
   "metadata": {},
   "outputs": [
    {
     "name": "stdout",
     "output_type": "stream",
     "text": [
      "[0.04983, 0.06324, 0.08105, 0.10447, 0.13878, 0.18268, 0.24523, 0.37277, 0.52974, 0.80314, 0.05796, 0.06602, 0.08202, 0.10132, 0.13436, 0.15654, 0.19223, 0.22582, 0.25832, 0.30641]\n",
      "[0.04058, 0.05718, 0.08062, 0.11828, 0.16203, 0.22222, 0.28511, 0.3432, 0.44912, 0.60133, 0.07395, 0.08775, 0.1141, 0.14967, 0.19009, 0.22172, 0.26078, 0.29872, 0.33287, 0.37686]\n",
      "[0.03503, 0.04467, 0.06328, 0.08441, 0.11833, 0.15578, 0.20816, 0.25782, 0.33868, 0.44956, 0.08265, 0.09664, 0.11549, 0.14077, 0.17613, 0.22001, 0.25277, 0.30013, 0.33377, 0.40443]\n",
      "[0.04703, 0.05189, 0.06173, 0.07901, 0.10697, 0.14173, 0.20537, 0.28744, 0.35831, 0.51582, 0.06434, 0.07276, 0.08406, 0.10525, 0.1361, 0.16669, 0.21546, 0.25794, 0.29524, 0.34157]\n"
     ]
    }
   ],
   "source": [
    "# XS 0pNp\n",
    "print([round(x,5) for x in xs_cos_nuwro_0p+xs_cos_nuwro_Np])\n",
    "print([round(x,5) for x in xs_cos_gen2_0p+xs_cos_gen2_Np])\n",
    "print([round(x,5) for x in xs_cos_gen3_0p+xs_cos_gen3_Np])\n",
    "print([round(x,5) for x in xs_cos_neut_0p+xs_cos_neut_Np])"
   ]
  },
  {
   "cell_type": "code",
   "execution_count": null,
   "id": "cab42cad",
   "metadata": {},
   "outputs": [],
   "source": []
  },
  {
   "cell_type": "code",
   "execution_count": null,
   "id": "559c57e0",
   "metadata": {},
   "outputs": [],
   "source": []
  },
  {
   "cell_type": "code",
   "execution_count": null,
   "id": "73fb7229",
   "metadata": {},
   "outputs": [],
   "source": []
  },
  {
   "cell_type": "code",
   "execution_count": null,
   "id": "b7a4778e",
   "metadata": {},
   "outputs": [],
   "source": []
  },
  {
   "cell_type": "code",
   "execution_count": null,
   "id": "8df8d3ff",
   "metadata": {},
   "outputs": [],
   "source": []
  },
  {
   "cell_type": "code",
   "execution_count": null,
   "id": "9871b67a",
   "metadata": {},
   "outputs": [],
   "source": []
  },
  {
   "cell_type": "code",
   "execution_count": null,
   "id": "e04aa901",
   "metadata": {},
   "outputs": [],
   "source": []
  },
  {
   "cell_type": "code",
   "execution_count": null,
   "id": "fcb71a43",
   "metadata": {},
   "outputs": [],
   "source": []
  },
  {
   "cell_type": "code",
   "execution_count": null,
   "id": "40e30fbb",
   "metadata": {},
   "outputs": [],
   "source": [
    "# Hajie C++ script\n",
    "'''\n",
    "void Differential_XS(){\n",
    "\n",
    "    TString filename[4];\n",
    "\n",
    "    filename[0] = \"/home/hanjie/Desktop/MicroBooNE/analysis/flat_trees/flat/bnb.ub.num.genie_v3_00_06.flat.root\";\n",
    "    filename[1] = \"/home/hanjie/Desktop/MicroBooNE/analysis/flat_trees/flat/bnb.ub.num.genie_v2_12_10.mec.flat.root\";\n",
    "    filename[2] = \"/home/hanjie/Desktop/MicroBooNE/analysis/flat_trees/flat/bnb.ub.num.neut_5_4_0_1.flat.root\";\n",
    "    filename[3] = \"/home/hanjie/Desktop/MicroBooNE/analysis/flat_trees/flat/bnb.ub.num.nuwro_19_02_1.flat.root\";\n",
    "\n",
    "    TString xs_label[4]={\"genie_v3\",\"genie_v2\",\"neut\",\"nuwro\"};\n",
    "\n",
    "    double pi0_bin[12]={0, 0.1, 0.15, 0.2, 0.25, 0.3, 0.4, 0.5, 0.6, 0.8, 1.0, 1.5};\n",
    "\n",
    "    TList *pi_l = new TList();\n",
    "    TH1F *hpi0[4];\n",
    "    TH1F *hpi0_p[4];\n",
    "    TH1F *h1pi0_p[4];\n",
    "    TFile *f1[4];\n",
    "\n",
    "    for(int iff=0; iff<4; iff++){\n",
    "\n",
    "       f1[iff] = new TFile(filename[iff]);\n",
    "       TTree *T = (TTree*) f1[iff]->Get(\"FlatTree_VARS\");\n",
    "\n",
    "       Int_t nentries = T->GetEntries();\n",
    "\n",
    "       const int nmax = 100;\n",
    "       int pdg[nmax];\n",
    "       float px[nmax], py[nmax], pz[nmax];\n",
    "       int nfsp;\n",
    "       Char_t cc;\n",
    "       float Enu_true;\n",
    "       double fScal;\n",
    "       int tgta;\n",
    "       T->SetBranchAddress(\"nfsp\", &nfsp);\n",
    "       T->SetBranchAddress(\"cc\", &cc);\n",
    "       T->SetBranchAddress(\"tgta\", &tgta);\n",
    "       T->SetBranchAddress(\"Enu_true\", &Enu_true);\n",
    "       T->SetBranchAddress(\"pdg\", &pdg);\n",
    "       T->SetBranchAddress(\"px\", &px);\n",
    "       T->SetBranchAddress(\"py\", &py);\n",
    "       T->SetBranchAddress(\"pz\", &pz);\n",
    "       T->SetBranchAddress(\"fScaleFactor\", &fScal);\n",
    "\n",
    "       Int_t nNC=0;\n",
    "       Int_t nNC_1=0;\n",
    "\n",
    "       TString hpi_name = \"hpi0_\"+xs_label[iff];\n",
    "       hpi0[iff] = new TH1F(hpi_name,hpi_name,15,0,15);\n",
    "\n",
    "       TString h_name = \"hpi0_p_\"+xs_label[iff];\n",
    "       hpi0_p[iff] = new TH1F(h_name,\"pi0 momentum\",11, pi0_bin);\n",
    "       h_name = \"h1pi0_p_\"+xs_label[iff];\n",
    "       h1pi0_p[iff] = new TH1F(h_name,\"one pi0 momentum\",11,pi0_bin);\n",
    "\n",
    "       for(int i=0; i<nentries; i++){\n",
    "           T->GetEntry(i);\n",
    "          \n",
    "           if(cc==1) continue; // only NC events\n",
    "//           if(Enu_true<0.275) continue;\n",
    " \n",
    "           bool foundpi0=false;\n",
    "           int npi0=0;\n",
    "           double maxP=0;\n",
    "           for(int j=0; j<nfsp; j++){\n",
    "               if(pdg[j]==111){\n",
    "                  foundpi0=true;\n",
    "                  npi0++; \n",
    "                  double tmp_p = sqrt(px[j]*px[j]+py[j]*py[j]+pz[j]*pz[j]);\n",
    "                  if(tmp_p>maxP) maxP=tmp_p;\n",
    "               }\n",
    "           }\n",
    "           if(foundpi0==false) continue; \n",
    "\n",
    "           nNC=nNC+1; \n",
    "           if(npi0==1){\n",
    "              nNC_1++;\n",
    "              h1pi0_p[iff]->Fill(maxP,fScal);\n",
    "           }\n",
    "           hpi0_p[iff]->Fill(maxP,fScal);\n",
    "           hpi0[iff]->Fill(npi0);\n",
    "       }\n",
    "\n",
    "       pi_l->Add(hpi0[iff]);\n",
    "       pi_l->Add(hpi0_p[iff]);\n",
    "       pi_l->Add(h1pi0_p[iff]);\n",
    "    }\n",
    "\n",
    "    TString outfile = \"output_differential_xs.root\";\n",
    "    TFile *fo = new TFile(outfile, \"RECREATE\"); \n",
    "    pi_l->Write(\"pi_hist\", TObject::kSingleKey);\n",
    "    fo->Write();\n",
    "    fo->Close();\n",
    "\n",
    "    double xs_data[11]={4.33e-40, 8.88e-40, 9.24e-40, 7.93e-40, 6.65e-40, 5.53e-40, 3.93e-40, 2.28e-40, 1.20e-40, 0.58e-40, 0.27e-40};\n",
    "    double xs_stat[11]={1.10e-40, 2.03e-40, 1.77e-40, 1.27e-40, 0.97e-40, 0.84e-40, 0.68e-40, 0.52e-40, 0.42e-40, 0.30e-40, 0.19e-40};\n",
    "    double xs_sys[11]={0.83e-40, 1.59e-40, 1.48e-40, 1.13e-40, 0.90e-40, 0.76e-40, 0.60e-40, 0.45e-40, 0.35e-40, 0.25e-40, 0.15e-40};\n",
    "\n",
    "    double xs_err[11]={0};\n",
    "    double bin_c[11]={0};\n",
    "    for(int i=0; i<11; i++){\n",
    "        xs_err[i] = sqrt(xs_stat[i]*xs_stat[i]+xs_sys[i]*xs_sys[i]);\n",
    "        bin_c[i] = pi0_bin[i] + ( pi0_bin[i+1]-pi0_bin[i] )/2.0;\n",
    "    }\n",
    "\n",
    "    TGraphErrors *gxs_data = new TGraphErrors(11, bin_c, xs_data, 0, xs_err);\n",
    "\n",
    "    for(int i=0; i<4; i++){\n",
    "     for(int j=1; j<12; j++){\n",
    "         double tmp = hpi0_p[i]->GetBinContent(j);\n",
    "         double new_con = tmp/(pi0_bin[j+1]-pi0_bin[j]);\n",
    "         hpi0_p[i]->SetBinContent(j,new_con);\n",
    "\n",
    "         tmp = h1pi0_p[i]->GetBinContent(j);\n",
    "         new_con = tmp/(pi0_bin[j+1]-pi0_bin[j]);\n",
    "         h1pi0_p[i]->SetBinContent(j,new_con);\n",
    "     }\n",
    "    }\n",
    "\n",
    "// apply smearing matrix\n",
    "    TFile *f2 = new TFile(\"../../4ch_diffPpi0_combined_WCdef_open_rw/output.root\");\n",
    "    TH2D *hsmear = (TH2D*)f2->Get(\"smear\");\n",
    "\n",
    "    TH1F *hpi0_p_smear[4];\n",
    "    TH1F *h1pi0_p_smear[4];\n",
    "\n",
    "    for(int i=0; i<4; i++){\n",
    "       TString hname = \"hpi0_p_smear_\"+ xs_label[i];\n",
    "       hpi0_p_smear[i] = new TH1F(hname,hname, 11, pi0_bin);\n",
    "       hname = \"h1pi0_p_smear_\"+ xs_label[i];\n",
    "       h1pi0_p_smear[i] = new TH1F(hname,hname, 11, pi0_bin);\n",
    "    }\n",
    "\n",
    "    for(int i=1; i<12; i++){\n",
    "       double tmpxs1[4]={0};\n",
    "       double tmpxs2[4]={0};\n",
    "       for(int j=1; j<12; j++){ \n",
    "           double fac = hsmear->GetBinContent(i, j);\n",
    "           for(int k=0; k<4; k++){ \n",
    "             tmpxs1[k] = tmpxs1[k] + fac*hpi0_p[k]->GetBinContent(j);\n",
    "             tmpxs2[k] = tmpxs2[k] + fac*h1pi0_p[k]->GetBinContent(j);\n",
    "           }\n",
    "       }\n",
    "       for(int k=0; k<4; k++){\n",
    "         hpi0_p_smear[k]->SetBinContent(i, tmpxs1[k]);  \n",
    "         h1pi0_p_smear[k]->SetBinContent(i, tmpxs2[k]);\n",
    "       }\n",
    "    }\n",
    "'''"
   ]
  }
 ],
 "metadata": {
  "kernelspec": {
   "display_name": "Python 3 (ipykernel)",
   "language": "python",
   "name": "python3"
  },
  "language_info": {
   "codemirror_mode": {
    "name": "ipython",
    "version": 3
   },
   "file_extension": ".py",
   "mimetype": "text/x-python",
   "name": "python",
   "nbconvert_exporter": "python",
   "pygments_lexer": "ipython3",
   "version": "3.7.11"
  }
 },
 "nbformat": 4,
 "nbformat_minor": 5
}
