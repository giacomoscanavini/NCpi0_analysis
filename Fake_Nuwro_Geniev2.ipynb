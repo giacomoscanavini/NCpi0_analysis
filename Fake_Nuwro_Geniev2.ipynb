{
 "cells": [
  {
   "cell_type": "code",
   "execution_count": 1,
   "metadata": {},
   "outputs": [],
   "source": [
    "import custom_functions as cf\n",
    "\n",
    "import math \n",
    "import numpy as np\n",
    "import pandas as pd\n",
    "import uproot3 as uproot\n",
    "import matplotlib.pyplot as plt\n",
    "%matplotlib inline\n",
    "#%matplotlib notebook\n",
    "from matplotlib import gridspec\n",
    "import copy\n",
    "\n",
    "SMALL_SIZE = 14\n",
    "MEDIUM_SIZE = 16\n",
    "BIGGER_SIZE = 18\n",
    "\n",
    "plt.rc('font', size=SMALL_SIZE)          # controls default text sizes\n",
    "plt.rc('axes', titlesize=SMALL_SIZE)     # fontsize of the axes title\n",
    "plt.rc('axes', labelsize=MEDIUM_SIZE)    # fontsize of the x and y labels\n",
    "plt.rc('xtick', labelsize=SMALL_SIZE)    # fontsize of the tick labels\n",
    "plt.rc('ytick', labelsize=SMALL_SIZE)    # fontsize of the tick labels\n",
    "plt.rc('legend', fontsize=SMALL_SIZE)    # legend fontsize\n",
    "plt.rc('figure', titlesize=BIGGER_SIZE)  # fontsize of the figure title"
   ]
  },
  {
   "cell_type": "code",
   "execution_count": 2,
   "metadata": {
    "scrolled": false
   },
   "outputs": [
    {
     "data": {
      "text/plain": [
       "<module 'custom_functions' from '/mnt/c/Users/Giacomo/Dropbox/Wirecell_related/NCpi0_training/custom_functions.py'>"
      ]
     },
     "execution_count": 2,
     "metadata": {},
     "output_type": "execute_result"
    }
   ],
   "source": [
    "# After changes\n",
    "import importlib\n",
    "importlib.reload(cf)"
   ]
  },
  {
   "cell_type": "markdown",
   "metadata": {},
   "source": [
    "### Import files "
   ]
  },
  {
   "cell_type": "code",
   "execution_count": 3,
   "metadata": {},
   "outputs": [],
   "source": [
    "file_nuwro1 = '/home/gs627/LEEana/processed_checkout_rootfiles/CV_fake/checkout_fakedata_nuwro_run1.root' \n",
    "file_nuwro2 = '/home/gs627/LEEana/processed_checkout_rootfiles/CV_fake/checkout_fakedata_nuwro_run2.root'\n",
    "file_nuwro3 = '/home/gs627/LEEana/processed_checkout_rootfiles/CV_fake/checkout_fakedata_nuwro_run3.root' \n",
    "file_geniev2 ='/home/gs627/LEEana/processed_checkout_rootfiles/CV_fake/checkout_nu2020_fakedata_set5.root' "
   ]
  },
  {
   "cell_type": "code",
   "execution_count": 4,
   "metadata": {},
   "outputs": [
    {
     "data": {
      "text/plain": [
       "3.015557775599831e+20"
      ]
     },
     "execution_count": 4,
     "metadata": {},
     "output_type": "execute_result"
    }
   ],
   "source": [
    "T_pot = uproot.open(file_nuwro1)['wcpselection/T_pot']\n",
    "df_pot = T_pot.pandas.df(T_pot.keys(), flatten=False)\n",
    "sum(df_pot.pot_tor875)"
   ]
  },
  {
   "cell_type": "code",
   "execution_count": null,
   "metadata": {},
   "outputs": [],
   "source": []
  },
  {
   "cell_type": "code",
   "execution_count": null,
   "metadata": {},
   "outputs": [],
   "source": []
  },
  {
   "cell_type": "code",
   "execution_count": null,
   "metadata": {},
   "outputs": [],
   "source": []
  },
  {
   "cell_type": "code",
   "execution_count": null,
   "metadata": {},
   "outputs": [],
   "source": []
  },
  {
   "cell_type": "code",
   "execution_count": null,
   "metadata": {},
   "outputs": [],
   "source": [
    "POT1_nuwro = 3.9886725e+20\n",
    "POT2_nuwro = 3.0151871e+20\n",
    "POT3_nuwro = 3.1520957e+20\n",
    "POT_geniev2 = 7.2432440e+20"
   ]
  },
  {
   "cell_type": "code",
   "execution_count": null,
   "metadata": {},
   "outputs": [],
   "source": []
  },
  {
   "cell_type": "markdown",
   "metadata": {},
   "source": [
    "### Merge and pre-process samples"
   ]
  },
  {
   "cell_type": "code",
   "execution_count": null,
   "metadata": {},
   "outputs": [],
   "source": [
    "# NUWRO\n",
    "POT1_nuwro, W1_nuwro, df1_nuwro = cf.gen_dataframe(file_nuwro1, POT1_nuwro, family='MC')\n",
    "POT2_nuwro, W2_nuwro, df2_nuwro = cf.gen_dataframe(file_nuwro2, POT2_nuwro, family='MC')\n",
    "POT3_nuwro, W3_nuwro, df3_nuwro = cf.gen_dataframe(file_nuwro3, POT3_nuwro, family='MC')\n",
    "\n",
    "df1_nuwro.loc[:,'origin'] = [1]*df1_nuwro.shape[0]\n",
    "df2_nuwro.loc[:,'origin'] = [2]*df2_nuwro.shape[0]\n",
    "df3_nuwro.loc[:,'origin'] = [3]*df3_nuwro.shape[0]"
   ]
  },
  {
   "cell_type": "code",
   "execution_count": null,
   "metadata": {},
   "outputs": [],
   "source": [
    "df_nuwro = pd.concat([df1_nuwro, df2_nuwro, df3_nuwro], axis=0).reset_index(drop=True)"
   ]
  },
  {
   "cell_type": "code",
   "execution_count": null,
   "metadata": {},
   "outputs": [],
   "source": [
    "# GENIEv2\n",
    "POT_geniev2, W_geniev2, df_geniev2 = cf.gen_dataframe(file_geniev2, POT_geniev2, family='MC')\n",
    "\n",
    "df_geniev2.loc[:,'origin'] = [1]*df_geniev2.shape[0]"
   ]
  },
  {
   "cell_type": "code",
   "execution_count": null,
   "metadata": {},
   "outputs": [],
   "source": [
    "df_geniev2 = pd.concat([df_geniev2], axis=0).reset_index(drop=True)"
   ]
  },
  {
   "cell_type": "code",
   "execution_count": null,
   "metadata": {},
   "outputs": [],
   "source": []
  },
  {
   "cell_type": "code",
   "execution_count": null,
   "metadata": {},
   "outputs": [],
   "source": []
  },
  {
   "cell_type": "code",
   "execution_count": null,
   "metadata": {},
   "outputs": [],
   "source": []
  },
  {
   "cell_type": "code",
   "execution_count": null,
   "metadata": {},
   "outputs": [],
   "source": []
  },
  {
   "cell_type": "code",
   "execution_count": null,
   "metadata": {},
   "outputs": [],
   "source": []
  },
  {
   "cell_type": "code",
   "execution_count": null,
   "metadata": {},
   "outputs": [],
   "source": []
  },
  {
   "cell_type": "code",
   "execution_count": null,
   "metadata": {},
   "outputs": [],
   "source": []
  },
  {
   "cell_type": "code",
   "execution_count": null,
   "metadata": {},
   "outputs": [],
   "source": []
  },
  {
   "cell_type": "code",
   "execution_count": null,
   "metadata": {},
   "outputs": [],
   "source": []
  }
 ],
 "metadata": {
  "kernelspec": {
   "display_name": "Python 3 (ipykernel)",
   "language": "python",
   "name": "python3"
  },
  "language_info": {
   "codemirror_mode": {
    "name": "ipython",
    "version": 3
   },
   "file_extension": ".py",
   "mimetype": "text/x-python",
   "name": "python",
   "nbconvert_exporter": "python",
   "pygments_lexer": "ipython3",
   "version": "3.7.11"
  }
 },
 "nbformat": 4,
 "nbformat_minor": 4
}
